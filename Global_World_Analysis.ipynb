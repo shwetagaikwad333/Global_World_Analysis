{
 "cells": [
  {
   "cell_type": "code",
   "execution_count": 40,
   "id": "df8f5129-7743-4f23-a72a-92aaa2ebd37c",
   "metadata": {},
   "outputs": [],
   "source": [
    "import pandas as pd\n",
    "import numpy as np\n",
    "import seaborn as sb\n",
    "import matplotlib.pyplot as plt\n",
    "import warnings\n",
    "warnings.filterwarnings('ignore')"
   ]
  },
  {
   "cell_type": "code",
   "execution_count": 41,
   "id": "9755af85-9d69-44dc-9dea-ccf617f79329",
   "metadata": {},
   "outputs": [],
   "source": [
    "df= pd.read_csv(\"../Datasets/Global_world.csv\")"
   ]
  },
  {
   "cell_type": "code",
   "execution_count": 42,
   "id": "1d1c501a-81cf-422b-993f-2ab4cb32d9d3",
   "metadata": {},
   "outputs": [
    {
     "data": {
      "text/html": [
       "<div>\n",
       "<style scoped>\n",
       "    .dataframe tbody tr th:only-of-type {\n",
       "        vertical-align: middle;\n",
       "    }\n",
       "\n",
       "    .dataframe tbody tr th {\n",
       "        vertical-align: top;\n",
       "    }\n",
       "\n",
       "    .dataframe thead th {\n",
       "        text-align: right;\n",
       "    }\n",
       "</style>\n",
       "<table border=\"1\" class=\"dataframe\">\n",
       "  <thead>\n",
       "    <tr style=\"text-align: right;\">\n",
       "      <th></th>\n",
       "      <th>Country</th>\n",
       "      <th>Density\\n(P/Km2)</th>\n",
       "      <th>Abbreviation</th>\n",
       "      <th>Agricultural Land( %)</th>\n",
       "      <th>Land Area(Km2)</th>\n",
       "      <th>Armed Forces size</th>\n",
       "      <th>Birth Rate</th>\n",
       "      <th>Calling Code</th>\n",
       "      <th>Capital/Major City</th>\n",
       "      <th>Co2-Emissions</th>\n",
       "      <th>...</th>\n",
       "      <th>Out of pocket health expenditure</th>\n",
       "      <th>Physicians per thousand</th>\n",
       "      <th>Population</th>\n",
       "      <th>Population: Labor force participation (%)</th>\n",
       "      <th>Tax revenue (%)</th>\n",
       "      <th>Total tax rate</th>\n",
       "      <th>Unemployment rate</th>\n",
       "      <th>Urban_population</th>\n",
       "      <th>Latitude</th>\n",
       "      <th>Longitude</th>\n",
       "    </tr>\n",
       "  </thead>\n",
       "  <tbody>\n",
       "    <tr>\n",
       "      <th>0</th>\n",
       "      <td>Afghanistan</td>\n",
       "      <td>60</td>\n",
       "      <td>AF</td>\n",
       "      <td>58.10%</td>\n",
       "      <td>652,230</td>\n",
       "      <td>323,000</td>\n",
       "      <td>32.49</td>\n",
       "      <td>93.0</td>\n",
       "      <td>Kabul</td>\n",
       "      <td>8,672</td>\n",
       "      <td>...</td>\n",
       "      <td>78.40%</td>\n",
       "      <td>0.28</td>\n",
       "      <td>38,041,754</td>\n",
       "      <td>48.90%</td>\n",
       "      <td>9.30%</td>\n",
       "      <td>71.40%</td>\n",
       "      <td>11.12%</td>\n",
       "      <td>9,797,273</td>\n",
       "      <td>33.939110</td>\n",
       "      <td>67.709953</td>\n",
       "    </tr>\n",
       "    <tr>\n",
       "      <th>1</th>\n",
       "      <td>Albania</td>\n",
       "      <td>105</td>\n",
       "      <td>AL</td>\n",
       "      <td>43.10%</td>\n",
       "      <td>28,748</td>\n",
       "      <td>9,000</td>\n",
       "      <td>11.78</td>\n",
       "      <td>355.0</td>\n",
       "      <td>Tirana</td>\n",
       "      <td>4,536</td>\n",
       "      <td>...</td>\n",
       "      <td>56.90%</td>\n",
       "      <td>1.20</td>\n",
       "      <td>2,854,191</td>\n",
       "      <td>55.70%</td>\n",
       "      <td>18.60%</td>\n",
       "      <td>36.60%</td>\n",
       "      <td>12.33%</td>\n",
       "      <td>1,747,593</td>\n",
       "      <td>41.153332</td>\n",
       "      <td>20.168331</td>\n",
       "    </tr>\n",
       "    <tr>\n",
       "      <th>2</th>\n",
       "      <td>Algeria</td>\n",
       "      <td>18</td>\n",
       "      <td>DZ</td>\n",
       "      <td>17.40%</td>\n",
       "      <td>2,381,741</td>\n",
       "      <td>317,000</td>\n",
       "      <td>24.28</td>\n",
       "      <td>213.0</td>\n",
       "      <td>Algiers</td>\n",
       "      <td>150,006</td>\n",
       "      <td>...</td>\n",
       "      <td>28.10%</td>\n",
       "      <td>1.72</td>\n",
       "      <td>43,053,054</td>\n",
       "      <td>41.20%</td>\n",
       "      <td>37.20%</td>\n",
       "      <td>66.10%</td>\n",
       "      <td>11.70%</td>\n",
       "      <td>31,510,100</td>\n",
       "      <td>28.033886</td>\n",
       "      <td>1.659626</td>\n",
       "    </tr>\n",
       "    <tr>\n",
       "      <th>3</th>\n",
       "      <td>Andorra</td>\n",
       "      <td>164</td>\n",
       "      <td>AD</td>\n",
       "      <td>40.00%</td>\n",
       "      <td>468</td>\n",
       "      <td>NaN</td>\n",
       "      <td>7.20</td>\n",
       "      <td>376.0</td>\n",
       "      <td>Andorra la Vella</td>\n",
       "      <td>469</td>\n",
       "      <td>...</td>\n",
       "      <td>36.40%</td>\n",
       "      <td>3.33</td>\n",
       "      <td>77,142</td>\n",
       "      <td>NaN</td>\n",
       "      <td>NaN</td>\n",
       "      <td>NaN</td>\n",
       "      <td>NaN</td>\n",
       "      <td>67,873</td>\n",
       "      <td>42.506285</td>\n",
       "      <td>1.521801</td>\n",
       "    </tr>\n",
       "    <tr>\n",
       "      <th>4</th>\n",
       "      <td>Angola</td>\n",
       "      <td>26</td>\n",
       "      <td>AO</td>\n",
       "      <td>47.50%</td>\n",
       "      <td>1,246,700</td>\n",
       "      <td>117,000</td>\n",
       "      <td>40.73</td>\n",
       "      <td>244.0</td>\n",
       "      <td>Luanda</td>\n",
       "      <td>34,693</td>\n",
       "      <td>...</td>\n",
       "      <td>33.40%</td>\n",
       "      <td>0.21</td>\n",
       "      <td>31,825,295</td>\n",
       "      <td>77.50%</td>\n",
       "      <td>9.20%</td>\n",
       "      <td>49.10%</td>\n",
       "      <td>6.89%</td>\n",
       "      <td>21,061,025</td>\n",
       "      <td>-11.202692</td>\n",
       "      <td>17.873887</td>\n",
       "    </tr>\n",
       "    <tr>\n",
       "      <th>...</th>\n",
       "      <td>...</td>\n",
       "      <td>...</td>\n",
       "      <td>...</td>\n",
       "      <td>...</td>\n",
       "      <td>...</td>\n",
       "      <td>...</td>\n",
       "      <td>...</td>\n",
       "      <td>...</td>\n",
       "      <td>...</td>\n",
       "      <td>...</td>\n",
       "      <td>...</td>\n",
       "      <td>...</td>\n",
       "      <td>...</td>\n",
       "      <td>...</td>\n",
       "      <td>...</td>\n",
       "      <td>...</td>\n",
       "      <td>...</td>\n",
       "      <td>...</td>\n",
       "      <td>...</td>\n",
       "      <td>...</td>\n",
       "      <td>...</td>\n",
       "    </tr>\n",
       "    <tr>\n",
       "      <th>190</th>\n",
       "      <td>Venezuela</td>\n",
       "      <td>32</td>\n",
       "      <td>VE</td>\n",
       "      <td>24.50%</td>\n",
       "      <td>912,050</td>\n",
       "      <td>343,000</td>\n",
       "      <td>17.88</td>\n",
       "      <td>58.0</td>\n",
       "      <td>Caracas</td>\n",
       "      <td>164,175</td>\n",
       "      <td>...</td>\n",
       "      <td>45.80%</td>\n",
       "      <td>1.92</td>\n",
       "      <td>28,515,829</td>\n",
       "      <td>59.70%</td>\n",
       "      <td>NaN</td>\n",
       "      <td>73.30%</td>\n",
       "      <td>8.80%</td>\n",
       "      <td>25,162,368</td>\n",
       "      <td>6.423750</td>\n",
       "      <td>-66.589730</td>\n",
       "    </tr>\n",
       "    <tr>\n",
       "      <th>191</th>\n",
       "      <td>Vietnam</td>\n",
       "      <td>314</td>\n",
       "      <td>VN</td>\n",
       "      <td>39.30%</td>\n",
       "      <td>331,210</td>\n",
       "      <td>522,000</td>\n",
       "      <td>16.75</td>\n",
       "      <td>84.0</td>\n",
       "      <td>Hanoi</td>\n",
       "      <td>192,668</td>\n",
       "      <td>...</td>\n",
       "      <td>43.50%</td>\n",
       "      <td>0.82</td>\n",
       "      <td>96,462,106</td>\n",
       "      <td>77.40%</td>\n",
       "      <td>19.10%</td>\n",
       "      <td>37.60%</td>\n",
       "      <td>2.01%</td>\n",
       "      <td>35,332,140</td>\n",
       "      <td>14.058324</td>\n",
       "      <td>108.277199</td>\n",
       "    </tr>\n",
       "    <tr>\n",
       "      <th>192</th>\n",
       "      <td>Yemen</td>\n",
       "      <td>56</td>\n",
       "      <td>YE</td>\n",
       "      <td>44.60%</td>\n",
       "      <td>527,968</td>\n",
       "      <td>40,000</td>\n",
       "      <td>30.45</td>\n",
       "      <td>967.0</td>\n",
       "      <td>Sanaa</td>\n",
       "      <td>10,609</td>\n",
       "      <td>...</td>\n",
       "      <td>81.00%</td>\n",
       "      <td>0.31</td>\n",
       "      <td>29,161,922</td>\n",
       "      <td>38.00%</td>\n",
       "      <td>NaN</td>\n",
       "      <td>26.60%</td>\n",
       "      <td>12.91%</td>\n",
       "      <td>10,869,523</td>\n",
       "      <td>15.552727</td>\n",
       "      <td>48.516388</td>\n",
       "    </tr>\n",
       "    <tr>\n",
       "      <th>193</th>\n",
       "      <td>Zambia</td>\n",
       "      <td>25</td>\n",
       "      <td>ZM</td>\n",
       "      <td>32.10%</td>\n",
       "      <td>752,618</td>\n",
       "      <td>16,000</td>\n",
       "      <td>36.19</td>\n",
       "      <td>260.0</td>\n",
       "      <td>Lusaka</td>\n",
       "      <td>5,141</td>\n",
       "      <td>...</td>\n",
       "      <td>27.50%</td>\n",
       "      <td>1.19</td>\n",
       "      <td>17,861,030</td>\n",
       "      <td>74.60%</td>\n",
       "      <td>16.20%</td>\n",
       "      <td>15.60%</td>\n",
       "      <td>11.43%</td>\n",
       "      <td>7,871,713</td>\n",
       "      <td>-13.133897</td>\n",
       "      <td>27.849332</td>\n",
       "    </tr>\n",
       "    <tr>\n",
       "      <th>194</th>\n",
       "      <td>Zimbabwe</td>\n",
       "      <td>38</td>\n",
       "      <td>ZW</td>\n",
       "      <td>41.90%</td>\n",
       "      <td>390,757</td>\n",
       "      <td>51,000</td>\n",
       "      <td>30.68</td>\n",
       "      <td>263.0</td>\n",
       "      <td>Harare</td>\n",
       "      <td>10,983</td>\n",
       "      <td>...</td>\n",
       "      <td>25.80%</td>\n",
       "      <td>0.21</td>\n",
       "      <td>14,645,468</td>\n",
       "      <td>83.10%</td>\n",
       "      <td>20.70%</td>\n",
       "      <td>31.60%</td>\n",
       "      <td>4.95%</td>\n",
       "      <td>4,717,305</td>\n",
       "      <td>-19.015438</td>\n",
       "      <td>29.154857</td>\n",
       "    </tr>\n",
       "  </tbody>\n",
       "</table>\n",
       "<p>195 rows × 35 columns</p>\n",
       "</div>"
      ],
      "text/plain": [
       "         Country Density\\n(P/Km2) Abbreviation Agricultural Land( %)  \\\n",
       "0    Afghanistan               60           AF                58.10%   \n",
       "1        Albania              105           AL                43.10%   \n",
       "2        Algeria               18           DZ                17.40%   \n",
       "3        Andorra              164           AD                40.00%   \n",
       "4         Angola               26           AO                47.50%   \n",
       "..           ...              ...          ...                   ...   \n",
       "190    Venezuela               32           VE                24.50%   \n",
       "191      Vietnam              314           VN                39.30%   \n",
       "192        Yemen               56           YE                44.60%   \n",
       "193       Zambia               25           ZM                32.10%   \n",
       "194     Zimbabwe               38           ZW                41.90%   \n",
       "\n",
       "    Land Area(Km2) Armed Forces size  Birth Rate  Calling Code  \\\n",
       "0          652,230           323,000       32.49          93.0   \n",
       "1           28,748             9,000       11.78         355.0   \n",
       "2        2,381,741           317,000       24.28         213.0   \n",
       "3              468               NaN        7.20         376.0   \n",
       "4        1,246,700           117,000       40.73         244.0   \n",
       "..             ...               ...         ...           ...   \n",
       "190        912,050           343,000       17.88          58.0   \n",
       "191        331,210           522,000       16.75          84.0   \n",
       "192        527,968            40,000       30.45         967.0   \n",
       "193        752,618            16,000       36.19         260.0   \n",
       "194        390,757            51,000       30.68         263.0   \n",
       "\n",
       "    Capital/Major City Co2-Emissions  ... Out of pocket health expenditure  \\\n",
       "0                Kabul         8,672  ...                           78.40%   \n",
       "1               Tirana         4,536  ...                           56.90%   \n",
       "2              Algiers       150,006  ...                           28.10%   \n",
       "3     Andorra la Vella           469  ...                           36.40%   \n",
       "4               Luanda        34,693  ...                           33.40%   \n",
       "..                 ...           ...  ...                              ...   \n",
       "190            Caracas       164,175  ...                           45.80%   \n",
       "191              Hanoi       192,668  ...                           43.50%   \n",
       "192              Sanaa        10,609  ...                           81.00%   \n",
       "193             Lusaka         5,141  ...                           27.50%   \n",
       "194             Harare        10,983  ...                           25.80%   \n",
       "\n",
       "    Physicians per thousand  Population  \\\n",
       "0                      0.28  38,041,754   \n",
       "1                      1.20   2,854,191   \n",
       "2                      1.72  43,053,054   \n",
       "3                      3.33      77,142   \n",
       "4                      0.21  31,825,295   \n",
       "..                      ...         ...   \n",
       "190                    1.92  28,515,829   \n",
       "191                    0.82  96,462,106   \n",
       "192                    0.31  29,161,922   \n",
       "193                    1.19  17,861,030   \n",
       "194                    0.21  14,645,468   \n",
       "\n",
       "     Population: Labor force participation (%) Tax revenue (%) Total tax rate  \\\n",
       "0                                       48.90%           9.30%         71.40%   \n",
       "1                                       55.70%          18.60%         36.60%   \n",
       "2                                       41.20%          37.20%         66.10%   \n",
       "3                                          NaN             NaN            NaN   \n",
       "4                                       77.50%           9.20%         49.10%   \n",
       "..                                         ...             ...            ...   \n",
       "190                                     59.70%             NaN         73.30%   \n",
       "191                                     77.40%          19.10%         37.60%   \n",
       "192                                     38.00%             NaN         26.60%   \n",
       "193                                     74.60%          16.20%         15.60%   \n",
       "194                                     83.10%          20.70%         31.60%   \n",
       "\n",
       "    Unemployment rate Urban_population   Latitude   Longitude  \n",
       "0              11.12%        9,797,273  33.939110   67.709953  \n",
       "1              12.33%        1,747,593  41.153332   20.168331  \n",
       "2              11.70%       31,510,100  28.033886    1.659626  \n",
       "3                 NaN           67,873  42.506285    1.521801  \n",
       "4               6.89%       21,061,025 -11.202692   17.873887  \n",
       "..                ...              ...        ...         ...  \n",
       "190             8.80%       25,162,368   6.423750  -66.589730  \n",
       "191             2.01%       35,332,140  14.058324  108.277199  \n",
       "192            12.91%       10,869,523  15.552727   48.516388  \n",
       "193            11.43%        7,871,713 -13.133897   27.849332  \n",
       "194             4.95%        4,717,305 -19.015438   29.154857  \n",
       "\n",
       "[195 rows x 35 columns]"
      ]
     },
     "execution_count": 42,
     "metadata": {},
     "output_type": "execute_result"
    }
   ],
   "source": [
    "df"
   ]
  },
  {
   "cell_type": "markdown",
   "id": "db309bb9-43b7-47bc-9f12-e56fe128f6ab",
   "metadata": {},
   "source": [
    "## Data Preparation"
   ]
  },
  {
   "cell_type": "code",
   "execution_count": 43,
   "id": "5dc10150-d6da-4339-92c9-c8d52d7c12b9",
   "metadata": {},
   "outputs": [
    {
     "data": {
      "text/plain": [
       "Index(['Country', 'Density\\n(P/Km2)', 'Abbreviation', 'Agricultural Land( %)',\n",
       "       'Land Area(Km2)', 'Armed Forces size', 'Birth Rate', 'Calling Code',\n",
       "       'Capital/Major City', 'Co2-Emissions', 'CPI', 'CPI Change (%)',\n",
       "       'Currency-Code', 'Fertility Rate', 'Forested Area (%)',\n",
       "       'Gasoline Price', 'GDP', 'Gross primary education enrollment (%)',\n",
       "       'Gross tertiary education enrollment (%)', 'Infant mortality',\n",
       "       'Largest city', 'Life expectancy', 'Maternal mortality ratio',\n",
       "       'Minimum wage', 'Official language', 'Out of pocket health expenditure',\n",
       "       'Physicians per thousand', 'Population',\n",
       "       'Population: Labor force participation (%)', 'Tax revenue (%)',\n",
       "       'Total tax rate', 'Unemployment rate', 'Urban_population', 'Latitude',\n",
       "       'Longitude'],\n",
       "      dtype='object')"
      ]
     },
     "execution_count": 43,
     "metadata": {},
     "output_type": "execute_result"
    }
   ],
   "source": [
    "df.columns"
   ]
  },
  {
   "cell_type": "code",
   "execution_count": 44,
   "id": "da859d17-6ba1-421d-b89c-512dbbafaeae",
   "metadata": {},
   "outputs": [
    {
     "data": {
      "text/plain": [
       "Country                                       0\n",
       "Density\\n(P/Km2)                              0\n",
       "Abbreviation                                  7\n",
       "Agricultural Land( %)                         7\n",
       "Land Area(Km2)                                1\n",
       "Armed Forces size                            24\n",
       "Birth Rate                                    6\n",
       "Calling Code                                  1\n",
       "Capital/Major City                            3\n",
       "Co2-Emissions                                 7\n",
       "CPI                                          17\n",
       "CPI Change (%)                               16\n",
       "Currency-Code                                15\n",
       "Fertility Rate                                7\n",
       "Forested Area (%)                             7\n",
       "Gasoline Price                               20\n",
       "GDP                                           2\n",
       "Gross primary education enrollment (%)        7\n",
       "Gross tertiary education enrollment (%)      12\n",
       "Infant mortality                              6\n",
       "Largest city                                  6\n",
       "Life expectancy                               8\n",
       "Maternal mortality ratio                     14\n",
       "Minimum wage                                 45\n",
       "Official language                             5\n",
       "Out of pocket health expenditure              7\n",
       "Physicians per thousand                       7\n",
       "Population                                    1\n",
       "Population: Labor force participation (%)    19\n",
       "Tax revenue (%)                              26\n",
       "Total tax rate                               12\n",
       "Unemployment rate                            19\n",
       "Urban_population                              5\n",
       "Latitude                                      1\n",
       "Longitude                                     1\n",
       "dtype: int64"
      ]
     },
     "execution_count": 44,
     "metadata": {},
     "output_type": "execute_result"
    }
   ],
   "source": [
    "df.isnull().sum()"
   ]
  },
  {
   "cell_type": "code",
   "execution_count": 45,
   "id": "c5e03d9a-1ebf-452e-8d35-f683f7c5d50b",
   "metadata": {},
   "outputs": [
    {
     "data": {
      "text/plain": [
       "Country                                       object\n",
       "Density\\n(P/Km2)                              object\n",
       "Abbreviation                                  object\n",
       "Agricultural Land( %)                         object\n",
       "Land Area(Km2)                                object\n",
       "Armed Forces size                             object\n",
       "Birth Rate                                   float64\n",
       "Calling Code                                 float64\n",
       "Capital/Major City                            object\n",
       "Co2-Emissions                                 object\n",
       "CPI                                           object\n",
       "CPI Change (%)                                object\n",
       "Currency-Code                                 object\n",
       "Fertility Rate                               float64\n",
       "Forested Area (%)                             object\n",
       "Gasoline Price                                object\n",
       "GDP                                           object\n",
       "Gross primary education enrollment (%)        object\n",
       "Gross tertiary education enrollment (%)       object\n",
       "Infant mortality                             float64\n",
       "Largest city                                  object\n",
       "Life expectancy                              float64\n",
       "Maternal mortality ratio                     float64\n",
       "Minimum wage                                  object\n",
       "Official language                             object\n",
       "Out of pocket health expenditure              object\n",
       "Physicians per thousand                      float64\n",
       "Population                                    object\n",
       "Population: Labor force participation (%)     object\n",
       "Tax revenue (%)                               object\n",
       "Total tax rate                                object\n",
       "Unemployment rate                             object\n",
       "Urban_population                              object\n",
       "Latitude                                     float64\n",
       "Longitude                                    float64\n",
       "dtype: object"
      ]
     },
     "execution_count": 45,
     "metadata": {},
     "output_type": "execute_result"
    }
   ],
   "source": [
    "df.dtypes"
   ]
  },
  {
   "cell_type": "code",
   "execution_count": 46,
   "id": "c5099734-5696-4102-aa61-21e66ecfc084",
   "metadata": {},
   "outputs": [],
   "source": [
    "df=df.rename(columns={'Density\\n(P/Km2)':'Density_people_persqkm','Agricultural Land( %)':'Agricultural_Land_pct','Land Area(Km2)':'Land_Area_sqkm',\n",
    "                      'Armed Forces size':'Armed_Forces_size','Birth Rate':'Birth_Rate','Calling Code':'Calling_Code','Capital/Major City':'Capital_Major_City',\n",
    "                      'CPI Change (%)':'CPI_Change_pct','Fertility Rate':'Fertility_Rate','Forested Area (%)':'Forested_Area_pct','Gasoline Price':'Gasoline_Price',\n",
    "                      'Gross primary education enrollment (%)':'Gross_primary_education_enrollment_pct','Gross tertiary education enrollment (%)':'Gross_tertiary_education_enrollment_pct',\n",
    "                      'Infant mortality':'Infant_mortality','Largest city':'Largest_city','Life expectancy':'Life_expectancy','Maternal mortality ratio':'Maternal_mortality_ratio',\n",
    "                      'Minimum wage':'Minimum_wage','Official language':'Official_language','Out of pocket health expenditure':'Out_of_pocket_health_expenditure',\n",
    "                      'Physicians per thousand':'Physicians_per_thousand','Population: Labor force participation (%)':'Population_Labor_force_participation_pct','Tax revenue (%)':'Tax_revenue_pct',\n",
    "                      'Total tax rate':'Total_tax_rate','Unemployment rate':'Unemployment_rate','Co2-Emissions':'Co2_Emissions','Currency-Code':'Currency_Code'})"
   ]
  },
  {
   "cell_type": "code",
   "execution_count": 47,
   "id": "eda5f6b8-490d-41a6-a810-18a27bca6363",
   "metadata": {},
   "outputs": [
    {
     "data": {
      "text/plain": [
       "Index(['Country', 'Density_people_persqkm', 'Abbreviation',\n",
       "       'Agricultural_Land_pct', 'Land_Area_sqkm', 'Armed_Forces_size',\n",
       "       'Birth_Rate', 'Calling_Code', 'Capital_Major_City', 'Co2_Emissions',\n",
       "       'CPI', 'CPI_Change_pct', 'Currency_Code', 'Fertility_Rate',\n",
       "       'Forested_Area_pct', 'Gasoline_Price', 'GDP',\n",
       "       'Gross_primary_education_enrollment_pct',\n",
       "       'Gross_tertiary_education_enrollment_pct', 'Infant_mortality',\n",
       "       'Largest_city', 'Life_expectancy', 'Maternal_mortality_ratio',\n",
       "       'Minimum_wage', 'Official_language', 'Out_of_pocket_health_expenditure',\n",
       "       'Physicians_per_thousand', 'Population',\n",
       "       'Population_Labor_force_participation_pct', 'Tax_revenue_pct',\n",
       "       'Total_tax_rate', 'Unemployment_rate', 'Urban_population', 'Latitude',\n",
       "       'Longitude'],\n",
       "      dtype='object')"
      ]
     },
     "execution_count": 47,
     "metadata": {},
     "output_type": "execute_result"
    }
   ],
   "source": [
    "df.columns"
   ]
  },
  {
   "cell_type": "code",
   "execution_count": 48,
   "id": "97754230-03f9-4531-9489-5f2f9d3cb1e2",
   "metadata": {},
   "outputs": [
    {
     "data": {
      "text/plain": [
       "array(['60', '105', '18', '164', '26', '223', '17', '104', '3', '109',\n",
       "       '123', '39', '2,239', '1,265', '668', '47', '383', '108', '20',\n",
       "       '11', '64', '4', '25', '83', '76', '463', '138', '95', '56', '8',\n",
       "       '13', '153', '46', '467', '16', '100', '73', '106', '131', '139',\n",
       "       '40', '137', '43', '96', '225', '71', '103', '313', '50', '35',\n",
       "       '31', '67', '115', '49', '119', '9', '239', '57', '240', '81',\n",
       "       '331', '167', '53', '70', '414', '2,003', '89', '107', '464',\n",
       "       '151', '52', '93', '72', '400', '206', '273', '347', '7', '94',\n",
       "       '147', '34', '32', '30', '667', '238', '242', '48', '203', '99',\n",
       "       '1,802', '1,380', '329', '5', '626', '66', '784', '26,337', '2',\n",
       "       '541', '508', '55', '19', '226', '214', '15', '287', '847', '58',\n",
       "       '368', '124', '111', '248', '84', '525', '205', '301', '284',\n",
       "       '566', '228', '87', '8,358', '114', '527', '341', '219', '68',\n",
       "       '152', '110', '393', '229', '75', '118', '281', '36', '79', '314',\n",
       "       '38'], dtype=object)"
      ]
     },
     "execution_count": 48,
     "metadata": {},
     "output_type": "execute_result"
    }
   ],
   "source": [
    "df.Density_people_persqkm.unique()"
   ]
  },
  {
   "cell_type": "code",
   "execution_count": 55,
   "id": "028bd4c7-2738-4140-9b1c-db06ffd70e28",
   "metadata": {},
   "outputs": [],
   "source": [
    "df.Density_people_persqkm=df.Density_people_persqkm.replace('[,]','',regex=True).astype('float64')"
   ]
  },
  {
   "cell_type": "code",
   "execution_count": 56,
   "id": "4491820c-2bc5-4c14-991f-87d075e02496",
   "metadata": {},
   "outputs": [],
   "source": [
    "df.Abbreviation=df.Abbreviation.fillna('unknown')"
   ]
  },
  {
   "cell_type": "code",
   "execution_count": 57,
   "id": "c45f755a-7490-431f-acf0-aca54f437861",
   "metadata": {},
   "outputs": [],
   "source": [
    "df.Agricultural_Land_pct=df.Agricultural_Land_pct.fillna(0)"
   ]
  },
  {
   "cell_type": "code",
   "execution_count": 58,
   "id": "08e0c83d-806d-44d2-b749-691f46893ea6",
   "metadata": {},
   "outputs": [
    {
     "data": {
      "text/plain": [
       "array([58.1, 43.1, 17.4, 40. , 47.5, 20.5, 54.3, 58.9, 48.2, 32.4, 57.7,\n",
       "        1.4, 11.1, 70.6, 23.3, 42. , 44.6,  7. , 33.3, 13.6, 34.8, 45.6,\n",
       "       33.9,  2.7, 46.3, 44.2, 79.2, 64.8, 19.6, 30.9, 20.6,  6.9,  8.2,\n",
       "       39.7, 21.2, 56.2, 40.3, 71.5, 31.1, 34.5, 27.6, 59.9, 12.2, 45.2,\n",
       "       11.6, 62. , 73.4, 48.7, 22.2,  3.8, 76.4, 10.1, 75.2, 23.1,  0. ,\n",
       "       36.3,  7.5, 52.4, 20. , 59.8, 47.7, 69. , 47.6, 23.5, 36. , 59. ,\n",
       "       58. ,  8.6, 66.8, 28.9, 58.4, 18.7, 60.4, 31.5, 28.2, 21.4, 64.5,\n",
       "       24.6, 43.2, 41. , 12.3, 12. , 80.4, 48.5,  8.4, 55. , 10.3, 64.3,\n",
       "       77.6, 28. ,  8.7, 32.2, 47.2, 53.7, 71.2, 61.4, 26.3, 33.8, 63.9,\n",
       "       38.5, 42.4, 54.6, 31.4, 74.2, 19. , 68.5, 63.5, 19.5, 47.1, 28.7,\n",
       "       53.3, 40.5, 42.1, 36.1, 77.7, 21.8,  4.6, 47.8, 10.9, 30.4,  2.6,\n",
       "       55.1, 18.5, 41.7, 46.9, 39.5,  5.8, 58.8, 13.3, 25.6, 12.4, 16.7,\n",
       "       50.7, 80.8, 46.1, 39.3,  3.4, 54.7,  0.9, 39.2, 30.7,  3.9, 70.3,\n",
       "       79.8, 52.6, 43.7,  0.6,  7.4, 38.4, 75.8, 34.1, 44.8, 43.3, 70.2,\n",
       "       45.8, 10.5, 49.8, 72. , 60. , 71.9, 71.7,  5.5, 44.4, 82.6, 62.9,\n",
       "       15.3, 24.5, 32.1, 41.9])"
      ]
     },
     "execution_count": 58,
     "metadata": {},
     "output_type": "execute_result"
    }
   ],
   "source": [
    "df.Agricultural_Land_pct.unique()"
   ]
  },
  {
   "cell_type": "code",
   "execution_count": 59,
   "id": "03ee30b9-694d-4f87-8d44-cbef9f983888",
   "metadata": {},
   "outputs": [],
   "source": [
    "df.Agricultural_Land_pct=df.Agricultural_Land_pct.replace('[%]','',regex=True).astype('float64')"
   ]
  },
  {
   "cell_type": "code",
   "execution_count": 60,
   "id": "79512698-c1d7-4c05-a078-23cbc7d1e7ce",
   "metadata": {},
   "outputs": [],
   "source": [
    "df.Land_Area_sqkm=df.Land_Area_sqkm.fillna(0)\n",
    "df.Armed_Forces_size=df.Armed_Forces_size.fillna(0)\n",
    "df.Birth_Rate=df.Birth_Rate.fillna(0)\n",
    "df.Calling_Code=df.Calling_Code.fillna(0)\n",
    "df.Capital_Major_City=df.Capital_Major_City.fillna('unknown')\n",
    "df.Co2_Emissions=df.Co2_Emissions.fillna(0)\n",
    "df.CPI=df.CPI.fillna(0)\n",
    "df.CPI_Change_pct=df.CPI_Change_pct.fillna(0)\n",
    "df.Currency_Code=df.Currency_Code.fillna('unknown')\n",
    "df.Fertility_Rate=df.Fertility_Rate.fillna(0)\n",
    "df.Forested_Area_pct=df.Forested_Area_pct.fillna(0)\n",
    "df.Gasoline_Price=df.Gasoline_Price.fillna(0)\n",
    "df.GDP=df.GDP.fillna(0)\n",
    "df.Gross_primary_education_enrollment_pct=df.Gross_primary_education_enrollment_pct.fillna(0)\n",
    "df.Gross_tertiary_education_enrollment_pct=df.Gross_tertiary_education_enrollment_pct.fillna(0)\n",
    "df.Infant_mortality=df.Infant_mortality.fillna(0)\n",
    "df.Largest_city=df.Largest_city.fillna('unknown')\n",
    "df.Life_expectancy=df.Life_expectancy.fillna(0)\n",
    "df.Maternal_mortality_ratio=df.Maternal_mortality_ratio.fillna(0)\n",
    "df.Minimum_wage=df.Minimum_wage.fillna(0)\n",
    "df.Official_language=df.Official_language.fillna('unknown')\n",
    "df.Out_of_pocket_health_expenditure=df.Out_of_pocket_health_expenditure.fillna(0)\n",
    "df.Physicians_per_thousand=df.Physicians_per_thousand.fillna(0)\n",
    "df.Population=df.Population.fillna(0)\n",
    "df.Population_Labor_force_participation_pct=df.Population_Labor_force_participation_pct.fillna(0)\n",
    "df.Tax_revenue_pct=df.Tax_revenue_pct.fillna(0)\n",
    "df.Total_tax_rate=df.Total_tax_rate.fillna(0)\n",
    "df.Unemployment_rate=df.Unemployment_rate.fillna(0)\n",
    "df.Urban_population=df.Urban_population.fillna(0)\n",
    "df.Latitude=df.Latitude.fillna(0)\n",
    "df.Longitude=df.Longitude.fillna(0)"
   ]
  },
  {
   "cell_type": "code",
   "execution_count": 61,
   "id": "55d6c537-684f-4ba0-ab3b-01b8d7515ba6",
   "metadata": {},
   "outputs": [
    {
     "data": {
      "text/plain": [
       "Country                                     0\n",
       "Density_people_persqkm                      0\n",
       "Abbreviation                                0\n",
       "Agricultural_Land_pct                       0\n",
       "Land_Area_sqkm                              0\n",
       "Armed_Forces_size                           0\n",
       "Birth_Rate                                  0\n",
       "Calling_Code                                0\n",
       "Capital_Major_City                          0\n",
       "Co2_Emissions                               0\n",
       "CPI                                         0\n",
       "CPI_Change_pct                              0\n",
       "Currency_Code                               0\n",
       "Fertility_Rate                              0\n",
       "Forested_Area_pct                           0\n",
       "Gasoline_Price                              0\n",
       "GDP                                         0\n",
       "Gross_primary_education_enrollment_pct      0\n",
       "Gross_tertiary_education_enrollment_pct     0\n",
       "Infant_mortality                            0\n",
       "Largest_city                                0\n",
       "Life_expectancy                             0\n",
       "Maternal_mortality_ratio                    0\n",
       "Minimum_wage                                0\n",
       "Official_language                           0\n",
       "Out_of_pocket_health_expenditure            0\n",
       "Physicians_per_thousand                     0\n",
       "Population                                  0\n",
       "Population_Labor_force_participation_pct    0\n",
       "Tax_revenue_pct                             0\n",
       "Total_tax_rate                              0\n",
       "Unemployment_rate                           0\n",
       "Urban_population                            0\n",
       "Latitude                                    0\n",
       "Longitude                                   0\n",
       "dtype: int64"
      ]
     },
     "execution_count": 61,
     "metadata": {},
     "output_type": "execute_result"
    }
   ],
   "source": [
    "df.isnull().sum()"
   ]
  },
  {
   "cell_type": "code",
   "execution_count": 63,
   "id": "6eb53ef5-0c2a-4041-ae4c-1bb517b74da6",
   "metadata": {},
   "outputs": [],
   "source": [
    "df.Land_Area_sqkm=df.Land_Area_sqkm.replace('[,]','',regex=True).astype('float64')\n",
    "df.Armed_Forces_size=df.Armed_Forces_size.replace('[,]','',regex=True).astype('float64')\n",
    "df.Co2_Emissions=df.Co2_Emissions.replace('[,]','',regex=True).astype('float64')\n",
    "df.CPI=df.CPI.replace('[%,]','',regex=True).astype('float64')\n",
    "df.CPI_Change_pct=df.CPI_Change_pct.replace('[%]','',regex=True).astype('float64')\n",
    "df.Forested_Area_pct=df.Forested_Area_pct.replace('[%]','',regex=True).astype('float64')\n",
    "df.Gasoline_Price=df.Gasoline_Price.replace('[$]','',regex=True).astype('float64')\n",
    "df.GDP=df.GDP.replace('[$,]','',regex=True).astype('float64')\n",
    "df.Gross_primary_education_enrollment_pct=df.Gross_primary_education_enrollment_pct.replace('[%]','',regex=True).astype('float64')\n",
    "df.Gross_tertiary_education_enrollment_pct=df.Gross_tertiary_education_enrollment_pct.replace('[%]','',regex=True).astype('float64')\n",
    "df.Minimum_wage=df.Minimum_wage.replace('[$]','',regex=True).astype('float64')\n",
    "df.Out_of_pocket_health_expenditure=df.Out_of_pocket_health_expenditure.replace('[%]','',regex=True).astype('float64')\n",
    "df.Population=df.Population.replace('[,]','',regex=True).astype('float64')\n",
    "df.Population_Labor_force_participation_pct=df.Population_Labor_force_participation_pct.replace('[%]','',regex=True).astype('float64')\n",
    "df.Tax_revenue_pct=df.Tax_revenue_pct.replace('[%]','',regex=True).astype('float64')\n",
    "df.Forested_Area_pct=df.Forested_Area_pct.replace('[%]','',regex=True).astype('float64')\n",
    "df.Total_tax_rate=df.Total_tax_rate.replace('[%]','',regex=True).astype('float64')\n",
    "df.Unemployment_rate=df.Unemployment_rate.replace('[%]','',regex=True).astype('float64')\n",
    "df.Forested_Area_pct=df.Forested_Area_pct.replace('[%]','',regex=True).astype('float64')\n",
    "df.Urban_population=df.Urban_population.replace('[,]','',regex=True).astype('float64')"
   ]
  },
  {
   "cell_type": "code",
   "execution_count": 64,
   "id": "2bdb395c-f101-4862-a08c-a015eb6fce28",
   "metadata": {},
   "outputs": [
    {
     "data": {
      "text/plain": [
       "Country                                      object\n",
       "Density_people_persqkm                      float64\n",
       "Abbreviation                                 object\n",
       "Agricultural_Land_pct                       float64\n",
       "Land_Area_sqkm                              float64\n",
       "Armed_Forces_size                           float64\n",
       "Birth_Rate                                  float64\n",
       "Calling_Code                                float64\n",
       "Capital_Major_City                           object\n",
       "Co2_Emissions                               float64\n",
       "CPI                                         float64\n",
       "CPI_Change_pct                              float64\n",
       "Currency_Code                                object\n",
       "Fertility_Rate                              float64\n",
       "Forested_Area_pct                           float64\n",
       "Gasoline_Price                              float64\n",
       "GDP                                         float64\n",
       "Gross_primary_education_enrollment_pct      float64\n",
       "Gross_tertiary_education_enrollment_pct     float64\n",
       "Infant_mortality                            float64\n",
       "Largest_city                                 object\n",
       "Life_expectancy                             float64\n",
       "Maternal_mortality_ratio                    float64\n",
       "Minimum_wage                                float64\n",
       "Official_language                            object\n",
       "Out_of_pocket_health_expenditure            float64\n",
       "Physicians_per_thousand                     float64\n",
       "Population                                  float64\n",
       "Population_Labor_force_participation_pct    float64\n",
       "Tax_revenue_pct                             float64\n",
       "Total_tax_rate                              float64\n",
       "Unemployment_rate                           float64\n",
       "Urban_population                            float64\n",
       "Latitude                                    float64\n",
       "Longitude                                   float64\n",
       "dtype: object"
      ]
     },
     "execution_count": 64,
     "metadata": {},
     "output_type": "execute_result"
    }
   ],
   "source": [
    "df.dtypes"
   ]
  },
  {
   "cell_type": "code",
   "execution_count": 65,
   "id": "55709437-4a24-4d5e-aa62-1a6dfa4c848f",
   "metadata": {},
   "outputs": [
    {
     "data": {
      "text/html": [
       "<div>\n",
       "<style scoped>\n",
       "    .dataframe tbody tr th:only-of-type {\n",
       "        vertical-align: middle;\n",
       "    }\n",
       "\n",
       "    .dataframe tbody tr th {\n",
       "        vertical-align: top;\n",
       "    }\n",
       "\n",
       "    .dataframe thead th {\n",
       "        text-align: right;\n",
       "    }\n",
       "</style>\n",
       "<table border=\"1\" class=\"dataframe\">\n",
       "  <thead>\n",
       "    <tr style=\"text-align: right;\">\n",
       "      <th></th>\n",
       "      <th>Country</th>\n",
       "      <th>Density_people_persqkm</th>\n",
       "      <th>Abbreviation</th>\n",
       "      <th>Agricultural_Land_pct</th>\n",
       "      <th>Land_Area_sqkm</th>\n",
       "      <th>Armed_Forces_size</th>\n",
       "      <th>Birth_Rate</th>\n",
       "      <th>Calling_Code</th>\n",
       "      <th>Capital_Major_City</th>\n",
       "      <th>Co2_Emissions</th>\n",
       "      <th>...</th>\n",
       "      <th>Out_of_pocket_health_expenditure</th>\n",
       "      <th>Physicians_per_thousand</th>\n",
       "      <th>Population</th>\n",
       "      <th>Population_Labor_force_participation_pct</th>\n",
       "      <th>Tax_revenue_pct</th>\n",
       "      <th>Total_tax_rate</th>\n",
       "      <th>Unemployment_rate</th>\n",
       "      <th>Urban_population</th>\n",
       "      <th>Latitude</th>\n",
       "      <th>Longitude</th>\n",
       "    </tr>\n",
       "  </thead>\n",
       "  <tbody>\n",
       "    <tr>\n",
       "      <th>0</th>\n",
       "      <td>Afghanistan</td>\n",
       "      <td>60.0</td>\n",
       "      <td>AF</td>\n",
       "      <td>58.1</td>\n",
       "      <td>652230.0</td>\n",
       "      <td>323000.0</td>\n",
       "      <td>32.49</td>\n",
       "      <td>93.0</td>\n",
       "      <td>Kabul</td>\n",
       "      <td>8672.0</td>\n",
       "      <td>...</td>\n",
       "      <td>78.4</td>\n",
       "      <td>0.28</td>\n",
       "      <td>38041754.0</td>\n",
       "      <td>48.9</td>\n",
       "      <td>9.3</td>\n",
       "      <td>71.4</td>\n",
       "      <td>11.12</td>\n",
       "      <td>9797273.0</td>\n",
       "      <td>33.939110</td>\n",
       "      <td>67.709953</td>\n",
       "    </tr>\n",
       "    <tr>\n",
       "      <th>1</th>\n",
       "      <td>Albania</td>\n",
       "      <td>105.0</td>\n",
       "      <td>AL</td>\n",
       "      <td>43.1</td>\n",
       "      <td>28748.0</td>\n",
       "      <td>9000.0</td>\n",
       "      <td>11.78</td>\n",
       "      <td>355.0</td>\n",
       "      <td>Tirana</td>\n",
       "      <td>4536.0</td>\n",
       "      <td>...</td>\n",
       "      <td>56.9</td>\n",
       "      <td>1.20</td>\n",
       "      <td>2854191.0</td>\n",
       "      <td>55.7</td>\n",
       "      <td>18.6</td>\n",
       "      <td>36.6</td>\n",
       "      <td>12.33</td>\n",
       "      <td>1747593.0</td>\n",
       "      <td>41.153332</td>\n",
       "      <td>20.168331</td>\n",
       "    </tr>\n",
       "    <tr>\n",
       "      <th>2</th>\n",
       "      <td>Algeria</td>\n",
       "      <td>18.0</td>\n",
       "      <td>DZ</td>\n",
       "      <td>17.4</td>\n",
       "      <td>2381741.0</td>\n",
       "      <td>317000.0</td>\n",
       "      <td>24.28</td>\n",
       "      <td>213.0</td>\n",
       "      <td>Algiers</td>\n",
       "      <td>150006.0</td>\n",
       "      <td>...</td>\n",
       "      <td>28.1</td>\n",
       "      <td>1.72</td>\n",
       "      <td>43053054.0</td>\n",
       "      <td>41.2</td>\n",
       "      <td>37.2</td>\n",
       "      <td>66.1</td>\n",
       "      <td>11.70</td>\n",
       "      <td>31510100.0</td>\n",
       "      <td>28.033886</td>\n",
       "      <td>1.659626</td>\n",
       "    </tr>\n",
       "    <tr>\n",
       "      <th>3</th>\n",
       "      <td>Andorra</td>\n",
       "      <td>164.0</td>\n",
       "      <td>AD</td>\n",
       "      <td>40.0</td>\n",
       "      <td>468.0</td>\n",
       "      <td>0.0</td>\n",
       "      <td>7.20</td>\n",
       "      <td>376.0</td>\n",
       "      <td>Andorra la Vella</td>\n",
       "      <td>469.0</td>\n",
       "      <td>...</td>\n",
       "      <td>36.4</td>\n",
       "      <td>3.33</td>\n",
       "      <td>77142.0</td>\n",
       "      <td>0.0</td>\n",
       "      <td>0.0</td>\n",
       "      <td>0.0</td>\n",
       "      <td>0.00</td>\n",
       "      <td>67873.0</td>\n",
       "      <td>42.506285</td>\n",
       "      <td>1.521801</td>\n",
       "    </tr>\n",
       "    <tr>\n",
       "      <th>4</th>\n",
       "      <td>Angola</td>\n",
       "      <td>26.0</td>\n",
       "      <td>AO</td>\n",
       "      <td>47.5</td>\n",
       "      <td>1246700.0</td>\n",
       "      <td>117000.0</td>\n",
       "      <td>40.73</td>\n",
       "      <td>244.0</td>\n",
       "      <td>Luanda</td>\n",
       "      <td>34693.0</td>\n",
       "      <td>...</td>\n",
       "      <td>33.4</td>\n",
       "      <td>0.21</td>\n",
       "      <td>31825295.0</td>\n",
       "      <td>77.5</td>\n",
       "      <td>9.2</td>\n",
       "      <td>49.1</td>\n",
       "      <td>6.89</td>\n",
       "      <td>21061025.0</td>\n",
       "      <td>-11.202692</td>\n",
       "      <td>17.873887</td>\n",
       "    </tr>\n",
       "    <tr>\n",
       "      <th>...</th>\n",
       "      <td>...</td>\n",
       "      <td>...</td>\n",
       "      <td>...</td>\n",
       "      <td>...</td>\n",
       "      <td>...</td>\n",
       "      <td>...</td>\n",
       "      <td>...</td>\n",
       "      <td>...</td>\n",
       "      <td>...</td>\n",
       "      <td>...</td>\n",
       "      <td>...</td>\n",
       "      <td>...</td>\n",
       "      <td>...</td>\n",
       "      <td>...</td>\n",
       "      <td>...</td>\n",
       "      <td>...</td>\n",
       "      <td>...</td>\n",
       "      <td>...</td>\n",
       "      <td>...</td>\n",
       "      <td>...</td>\n",
       "      <td>...</td>\n",
       "    </tr>\n",
       "    <tr>\n",
       "      <th>190</th>\n",
       "      <td>Venezuela</td>\n",
       "      <td>32.0</td>\n",
       "      <td>VE</td>\n",
       "      <td>24.5</td>\n",
       "      <td>912050.0</td>\n",
       "      <td>343000.0</td>\n",
       "      <td>17.88</td>\n",
       "      <td>58.0</td>\n",
       "      <td>Caracas</td>\n",
       "      <td>164175.0</td>\n",
       "      <td>...</td>\n",
       "      <td>45.8</td>\n",
       "      <td>1.92</td>\n",
       "      <td>28515829.0</td>\n",
       "      <td>59.7</td>\n",
       "      <td>0.0</td>\n",
       "      <td>73.3</td>\n",
       "      <td>8.80</td>\n",
       "      <td>25162368.0</td>\n",
       "      <td>6.423750</td>\n",
       "      <td>-66.589730</td>\n",
       "    </tr>\n",
       "    <tr>\n",
       "      <th>191</th>\n",
       "      <td>Vietnam</td>\n",
       "      <td>314.0</td>\n",
       "      <td>VN</td>\n",
       "      <td>39.3</td>\n",
       "      <td>331210.0</td>\n",
       "      <td>522000.0</td>\n",
       "      <td>16.75</td>\n",
       "      <td>84.0</td>\n",
       "      <td>Hanoi</td>\n",
       "      <td>192668.0</td>\n",
       "      <td>...</td>\n",
       "      <td>43.5</td>\n",
       "      <td>0.82</td>\n",
       "      <td>96462106.0</td>\n",
       "      <td>77.4</td>\n",
       "      <td>19.1</td>\n",
       "      <td>37.6</td>\n",
       "      <td>2.01</td>\n",
       "      <td>35332140.0</td>\n",
       "      <td>14.058324</td>\n",
       "      <td>108.277199</td>\n",
       "    </tr>\n",
       "    <tr>\n",
       "      <th>192</th>\n",
       "      <td>Yemen</td>\n",
       "      <td>56.0</td>\n",
       "      <td>YE</td>\n",
       "      <td>44.6</td>\n",
       "      <td>527968.0</td>\n",
       "      <td>40000.0</td>\n",
       "      <td>30.45</td>\n",
       "      <td>967.0</td>\n",
       "      <td>Sanaa</td>\n",
       "      <td>10609.0</td>\n",
       "      <td>...</td>\n",
       "      <td>81.0</td>\n",
       "      <td>0.31</td>\n",
       "      <td>29161922.0</td>\n",
       "      <td>38.0</td>\n",
       "      <td>0.0</td>\n",
       "      <td>26.6</td>\n",
       "      <td>12.91</td>\n",
       "      <td>10869523.0</td>\n",
       "      <td>15.552727</td>\n",
       "      <td>48.516388</td>\n",
       "    </tr>\n",
       "    <tr>\n",
       "      <th>193</th>\n",
       "      <td>Zambia</td>\n",
       "      <td>25.0</td>\n",
       "      <td>ZM</td>\n",
       "      <td>32.1</td>\n",
       "      <td>752618.0</td>\n",
       "      <td>16000.0</td>\n",
       "      <td>36.19</td>\n",
       "      <td>260.0</td>\n",
       "      <td>Lusaka</td>\n",
       "      <td>5141.0</td>\n",
       "      <td>...</td>\n",
       "      <td>27.5</td>\n",
       "      <td>1.19</td>\n",
       "      <td>17861030.0</td>\n",
       "      <td>74.6</td>\n",
       "      <td>16.2</td>\n",
       "      <td>15.6</td>\n",
       "      <td>11.43</td>\n",
       "      <td>7871713.0</td>\n",
       "      <td>-13.133897</td>\n",
       "      <td>27.849332</td>\n",
       "    </tr>\n",
       "    <tr>\n",
       "      <th>194</th>\n",
       "      <td>Zimbabwe</td>\n",
       "      <td>38.0</td>\n",
       "      <td>ZW</td>\n",
       "      <td>41.9</td>\n",
       "      <td>390757.0</td>\n",
       "      <td>51000.0</td>\n",
       "      <td>30.68</td>\n",
       "      <td>263.0</td>\n",
       "      <td>Harare</td>\n",
       "      <td>10983.0</td>\n",
       "      <td>...</td>\n",
       "      <td>25.8</td>\n",
       "      <td>0.21</td>\n",
       "      <td>14645468.0</td>\n",
       "      <td>83.1</td>\n",
       "      <td>20.7</td>\n",
       "      <td>31.6</td>\n",
       "      <td>4.95</td>\n",
       "      <td>4717305.0</td>\n",
       "      <td>-19.015438</td>\n",
       "      <td>29.154857</td>\n",
       "    </tr>\n",
       "  </tbody>\n",
       "</table>\n",
       "<p>195 rows × 35 columns</p>\n",
       "</div>"
      ],
      "text/plain": [
       "         Country  Density_people_persqkm Abbreviation  Agricultural_Land_pct  \\\n",
       "0    Afghanistan                    60.0           AF                   58.1   \n",
       "1        Albania                   105.0           AL                   43.1   \n",
       "2        Algeria                    18.0           DZ                   17.4   \n",
       "3        Andorra                   164.0           AD                   40.0   \n",
       "4         Angola                    26.0           AO                   47.5   \n",
       "..           ...                     ...          ...                    ...   \n",
       "190    Venezuela                    32.0           VE                   24.5   \n",
       "191      Vietnam                   314.0           VN                   39.3   \n",
       "192        Yemen                    56.0           YE                   44.6   \n",
       "193       Zambia                    25.0           ZM                   32.1   \n",
       "194     Zimbabwe                    38.0           ZW                   41.9   \n",
       "\n",
       "     Land_Area_sqkm  Armed_Forces_size  Birth_Rate  Calling_Code  \\\n",
       "0          652230.0           323000.0       32.49          93.0   \n",
       "1           28748.0             9000.0       11.78         355.0   \n",
       "2         2381741.0           317000.0       24.28         213.0   \n",
       "3             468.0                0.0        7.20         376.0   \n",
       "4         1246700.0           117000.0       40.73         244.0   \n",
       "..              ...                ...         ...           ...   \n",
       "190        912050.0           343000.0       17.88          58.0   \n",
       "191        331210.0           522000.0       16.75          84.0   \n",
       "192        527968.0            40000.0       30.45         967.0   \n",
       "193        752618.0            16000.0       36.19         260.0   \n",
       "194        390757.0            51000.0       30.68         263.0   \n",
       "\n",
       "    Capital_Major_City  Co2_Emissions  ...  Out_of_pocket_health_expenditure  \\\n",
       "0                Kabul         8672.0  ...                              78.4   \n",
       "1               Tirana         4536.0  ...                              56.9   \n",
       "2              Algiers       150006.0  ...                              28.1   \n",
       "3     Andorra la Vella          469.0  ...                              36.4   \n",
       "4               Luanda        34693.0  ...                              33.4   \n",
       "..                 ...            ...  ...                               ...   \n",
       "190            Caracas       164175.0  ...                              45.8   \n",
       "191              Hanoi       192668.0  ...                              43.5   \n",
       "192              Sanaa        10609.0  ...                              81.0   \n",
       "193             Lusaka         5141.0  ...                              27.5   \n",
       "194             Harare        10983.0  ...                              25.8   \n",
       "\n",
       "     Physicians_per_thousand  Population  \\\n",
       "0                       0.28  38041754.0   \n",
       "1                       1.20   2854191.0   \n",
       "2                       1.72  43053054.0   \n",
       "3                       3.33     77142.0   \n",
       "4                       0.21  31825295.0   \n",
       "..                       ...         ...   \n",
       "190                     1.92  28515829.0   \n",
       "191                     0.82  96462106.0   \n",
       "192                     0.31  29161922.0   \n",
       "193                     1.19  17861030.0   \n",
       "194                     0.21  14645468.0   \n",
       "\n",
       "     Population_Labor_force_participation_pct  Tax_revenue_pct  \\\n",
       "0                                        48.9              9.3   \n",
       "1                                        55.7             18.6   \n",
       "2                                        41.2             37.2   \n",
       "3                                         0.0              0.0   \n",
       "4                                        77.5              9.2   \n",
       "..                                        ...              ...   \n",
       "190                                      59.7              0.0   \n",
       "191                                      77.4             19.1   \n",
       "192                                      38.0              0.0   \n",
       "193                                      74.6             16.2   \n",
       "194                                      83.1             20.7   \n",
       "\n",
       "     Total_tax_rate  Unemployment_rate  Urban_population   Latitude  \\\n",
       "0              71.4              11.12         9797273.0  33.939110   \n",
       "1              36.6              12.33         1747593.0  41.153332   \n",
       "2              66.1              11.70        31510100.0  28.033886   \n",
       "3               0.0               0.00           67873.0  42.506285   \n",
       "4              49.1               6.89        21061025.0 -11.202692   \n",
       "..              ...                ...               ...        ...   \n",
       "190            73.3               8.80        25162368.0   6.423750   \n",
       "191            37.6               2.01        35332140.0  14.058324   \n",
       "192            26.6              12.91        10869523.0  15.552727   \n",
       "193            15.6              11.43         7871713.0 -13.133897   \n",
       "194            31.6               4.95         4717305.0 -19.015438   \n",
       "\n",
       "      Longitude  \n",
       "0     67.709953  \n",
       "1     20.168331  \n",
       "2      1.659626  \n",
       "3      1.521801  \n",
       "4     17.873887  \n",
       "..          ...  \n",
       "190  -66.589730  \n",
       "191  108.277199  \n",
       "192   48.516388  \n",
       "193   27.849332  \n",
       "194   29.154857  \n",
       "\n",
       "[195 rows x 35 columns]"
      ]
     },
     "execution_count": 65,
     "metadata": {},
     "output_type": "execute_result"
    }
   ],
   "source": [
    "df"
   ]
  },
  {
   "cell_type": "markdown",
   "id": "35f5c319-e093-411a-ba15-191c617221f3",
   "metadata": {},
   "source": [
    "## Country Analysis:\n",
    "\n",
    "### Which countries are represented in the dataset?"
   ]
  },
  {
   "cell_type": "code",
   "execution_count": 66,
   "id": "ffbdc6cf-18d5-4193-93be-fce9fb1af855",
   "metadata": {},
   "outputs": [
    {
     "data": {
      "text/plain": [
       "array(['Afghanistan', 'Albania', 'Algeria', 'Andorra', 'Angola',\n",
       "       'Antigua and Barbuda', 'Argentina', 'Armenia', 'Australia',\n",
       "       'Austria', 'Azerbaijan', 'The Bahamas', 'Bahrain', 'Bangladesh',\n",
       "       'Barbados', 'Belarus', 'Belgium', 'Belize', 'Benin', 'Bhutan',\n",
       "       'Bolivia', 'Bosnia and Herzegovina', 'Botswana', 'Brazil',\n",
       "       'Brunei', 'Bulgaria', 'Burkina Faso', 'Burundi', 'Ivory Coast',\n",
       "       'Cape Verde', 'Cambodia', 'Cameroon', 'Canada',\n",
       "       'Central African Republic', 'Chad', 'Chile', 'China', 'Colombia',\n",
       "       'Comoros', 'Republic of the Congo', 'Costa Rica', 'Croatia',\n",
       "       'Cuba', 'Cyprus', 'Czech Republic',\n",
       "       'Democratic Republic of the Congo', 'Denmark', 'Djibouti',\n",
       "       'Dominica', 'Dominican Republic', 'Ecuador', 'Egypt',\n",
       "       'El Salvador', 'Equatorial Guinea', 'Eritrea', 'Estonia',\n",
       "       'Eswatini', 'Ethiopia', 'Fiji', 'Finland', 'France', 'Gabon',\n",
       "       'The Gambia', 'Georgia', 'Germany', 'Ghana', 'Greece', 'Grenada',\n",
       "       'Guatemala', 'Guinea', 'Guinea-Bissau', 'Guyana', 'Haiti',\n",
       "       'Vatican City', 'Honduras', 'Hungary', 'Iceland', 'India',\n",
       "       'Indonesia', 'Iran', 'Iraq', 'Republic of Ireland', 'Israel',\n",
       "       'Italy', 'Jamaica', 'Japan', 'Jordan', 'Kazakhstan', 'Kenya',\n",
       "       'Kiribati', 'Kuwait', 'Kyrgyzstan', 'Laos', 'Latvia', 'Lebanon',\n",
       "       'Lesotho', 'Liberia', 'Libya', 'Liechtenstein', 'Lithuania',\n",
       "       'Luxembourg', 'Madagascar', 'Malawi', 'Malaysia', 'Maldives',\n",
       "       'Mali', 'Malta', 'Marshall Islands', 'Mauritania', 'Mauritius',\n",
       "       'Mexico', 'Federated States of Micronesia', 'Moldova', 'Monaco',\n",
       "       'Mongolia', 'Montenegro', 'Morocco', 'Mozambique', 'Myanmar',\n",
       "       'Namibia', 'Nauru', 'Nepal', 'Netherlands', 'New Zealand',\n",
       "       'Nicaragua', 'Niger', 'Nigeria', 'North Korea', 'North Macedonia',\n",
       "       'Norway', 'Oman', 'Pakistan', 'Palau',\n",
       "       'Palestinian National Authority', 'Panama', 'Papua New Guinea',\n",
       "       'Paraguay', 'Peru', 'Philippines', 'Poland', 'Portugal', 'Qatar',\n",
       "       'Romania', 'Russia', 'Rwanda', 'Saint Kitts and Nevis',\n",
       "       'Saint Lucia', 'Saint Vincent and the Grenadines', 'Samoa',\n",
       "       'San Marino', 'S�����������', 'Saudi Arabia', 'Senegal', 'Serbia',\n",
       "       'Seychelles', 'Sierra Leone', 'Singapore', 'Slovakia', 'Slovenia',\n",
       "       'Solomon Islands', 'Somalia', 'South Africa', 'South Korea',\n",
       "       'South Sudan', 'Spain', 'Sri Lanka', 'Sudan', 'Suriname', 'Sweden',\n",
       "       'Switzerland', 'Syria', 'Tajikistan', 'Tanzania', 'Thailand',\n",
       "       'East Timor', 'Togo', 'Tonga', 'Trinidad and Tobago', 'Tunisia',\n",
       "       'Turkey', 'Turkmenistan', 'Tuvalu', 'Uganda', 'Ukraine',\n",
       "       'United Arab Emirates', 'United Kingdom', 'United States',\n",
       "       'Uruguay', 'Uzbekistan', 'Vanuatu', 'Venezuela', 'Vietnam',\n",
       "       'Yemen', 'Zambia', 'Zimbabwe'], dtype=object)"
      ]
     },
     "execution_count": 66,
     "metadata": {},
     "output_type": "execute_result"
    }
   ],
   "source": [
    "df.Country.unique()"
   ]
  },
  {
   "cell_type": "markdown",
   "id": "fa871847-c0b1-4e21-9a6d-fa530f410aae",
   "metadata": {},
   "source": [
    "### What is the frequency distribution of countries across various metrics?"
   ]
  },
  {
   "cell_type": "code",
   "execution_count": 67,
   "id": "6cd5226f-caf4-4ec8-a709-e8e6956f7c20",
   "metadata": {},
   "outputs": [
    {
     "data": {
      "text/plain": [
       "Country\n",
       "Afghanistan      1\n",
       "Saint Lucia      1\n",
       "Nicaragua        1\n",
       "Niger            1\n",
       "Nigeria          1\n",
       "                ..\n",
       "Grenada          1\n",
       "Guatemala        1\n",
       "Guinea           1\n",
       "Guinea-Bissau    1\n",
       "Zimbabwe         1\n",
       "Name: count, Length: 195, dtype: int64"
      ]
     },
     "execution_count": 67,
     "metadata": {},
     "output_type": "execute_result"
    }
   ],
   "source": [
    "df.Country.value_counts()"
   ]
  },
  {
   "cell_type": "code",
   "execution_count": 68,
   "id": "44a684b7-705e-4b4e-a0b2-fb4cd4e76b67",
   "metadata": {},
   "outputs": [
    {
     "data": {
      "text/html": [
       "<div>\n",
       "<style scoped>\n",
       "    .dataframe tbody tr th:only-of-type {\n",
       "        vertical-align: middle;\n",
       "    }\n",
       "\n",
       "    .dataframe tbody tr th {\n",
       "        vertical-align: top;\n",
       "    }\n",
       "\n",
       "    .dataframe thead th {\n",
       "        text-align: right;\n",
       "    }\n",
       "</style>\n",
       "<table border=\"1\" class=\"dataframe\">\n",
       "  <thead>\n",
       "    <tr style=\"text-align: right;\">\n",
       "      <th></th>\n",
       "      <th>Density_people_persqkm</th>\n",
       "      <th>Agricultural_Land_pct</th>\n",
       "      <th>Land_Area_sqkm</th>\n",
       "      <th>Armed_Forces_size</th>\n",
       "      <th>Birth_Rate</th>\n",
       "      <th>Calling_Code</th>\n",
       "      <th>Co2_Emissions</th>\n",
       "      <th>CPI</th>\n",
       "      <th>CPI_Change_pct</th>\n",
       "      <th>Fertility_Rate</th>\n",
       "      <th>...</th>\n",
       "      <th>Out_of_pocket_health_expenditure</th>\n",
       "      <th>Physicians_per_thousand</th>\n",
       "      <th>Population</th>\n",
       "      <th>Population_Labor_force_participation_pct</th>\n",
       "      <th>Tax_revenue_pct</th>\n",
       "      <th>Total_tax_rate</th>\n",
       "      <th>Unemployment_rate</th>\n",
       "      <th>Urban_population</th>\n",
       "      <th>Latitude</th>\n",
       "      <th>Longitude</th>\n",
       "    </tr>\n",
       "  </thead>\n",
       "  <tbody>\n",
       "    <tr>\n",
       "      <th>count</th>\n",
       "      <td>195.000000</td>\n",
       "      <td>195.000000</td>\n",
       "      <td>1.950000e+02</td>\n",
       "      <td>1.950000e+02</td>\n",
       "      <td>195.000000</td>\n",
       "      <td>195.000000</td>\n",
       "      <td>1.950000e+02</td>\n",
       "      <td>195.000000</td>\n",
       "      <td>195.000000</td>\n",
       "      <td>195.000000</td>\n",
       "      <td>...</td>\n",
       "      <td>195.000000</td>\n",
       "      <td>195.000000</td>\n",
       "      <td>1.950000e+02</td>\n",
       "      <td>195.000000</td>\n",
       "      <td>195.000000</td>\n",
       "      <td>195.000000</td>\n",
       "      <td>195.000000</td>\n",
       "      <td>1.950000e+02</td>\n",
       "      <td>195.000000</td>\n",
       "      <td>195.000000</td>\n",
       "    </tr>\n",
       "    <tr>\n",
       "      <th>mean</th>\n",
       "      <td>356.764103</td>\n",
       "      <td>37.713333</td>\n",
       "      <td>6.860878e+05</td>\n",
       "      <td>1.396718e+05</td>\n",
       "      <td>19.592974</td>\n",
       "      <td>358.697436</td>\n",
       "      <td>1.714167e+05</td>\n",
       "      <td>173.856667</td>\n",
       "      <td>6.170769</td>\n",
       "      <td>2.601282</td>\n",
       "      <td>...</td>\n",
       "      <td>31.465641</td>\n",
       "      <td>1.773795</td>\n",
       "      <td>3.917921e+07</td>\n",
       "      <td>56.625128</td>\n",
       "      <td>14.364103</td>\n",
       "      <td>38.310256</td>\n",
       "      <td>6.215385</td>\n",
       "      <td>2.173263e+07</td>\n",
       "      <td>18.994442</td>\n",
       "      <td>20.128678</td>\n",
       "    </tr>\n",
       "    <tr>\n",
       "      <th>std</th>\n",
       "      <td>1982.888967</td>\n",
       "      <td>22.596702</td>\n",
       "      <td>1.917286e+06</td>\n",
       "      <td>3.601490e+05</td>\n",
       "      <td>10.397534</td>\n",
       "      <td>323.434462</td>\n",
       "      <td>8.241858e+05</td>\n",
       "      <td>383.909718</td>\n",
       "      <td>23.493382</td>\n",
       "      <td>1.355777</td>\n",
       "      <td>...</td>\n",
       "      <td>19.783417</td>\n",
       "      <td>1.688826</td>\n",
       "      <td>1.447454e+08</td>\n",
       "      <td>21.152722</td>\n",
       "      <td>8.595080</td>\n",
       "      <td>22.208406</td>\n",
       "      <td>5.240580</td>\n",
       "      <td>7.453597e+07</td>\n",
       "      <td>23.939018</td>\n",
       "      <td>66.559711</td>\n",
       "    </tr>\n",
       "    <tr>\n",
       "      <th>min</th>\n",
       "      <td>2.000000</td>\n",
       "      <td>0.000000</td>\n",
       "      <td>0.000000e+00</td>\n",
       "      <td>0.000000e+00</td>\n",
       "      <td>0.000000</td>\n",
       "      <td>0.000000</td>\n",
       "      <td>0.000000e+00</td>\n",
       "      <td>0.000000</td>\n",
       "      <td>-4.300000</td>\n",
       "      <td>0.000000</td>\n",
       "      <td>...</td>\n",
       "      <td>0.000000</td>\n",
       "      <td>0.000000</td>\n",
       "      <td>0.000000e+00</td>\n",
       "      <td>0.000000</td>\n",
       "      <td>0.000000</td>\n",
       "      <td>0.000000</td>\n",
       "      <td>0.000000</td>\n",
       "      <td>0.000000e+00</td>\n",
       "      <td>-40.900557</td>\n",
       "      <td>-175.198242</td>\n",
       "    </tr>\n",
       "    <tr>\n",
       "      <th>25%</th>\n",
       "      <td>35.500000</td>\n",
       "      <td>19.800000</td>\n",
       "      <td>2.308300e+04</td>\n",
       "      <td>4.500000e+03</td>\n",
       "      <td>10.675000</td>\n",
       "      <td>81.500000</td>\n",
       "      <td>1.901500e+03</td>\n",
       "      <td>111.005000</td>\n",
       "      <td>0.650000</td>\n",
       "      <td>1.625000</td>\n",
       "      <td>...</td>\n",
       "      <td>15.700000</td>\n",
       "      <td>0.245000</td>\n",
       "      <td>1.916856e+06</td>\n",
       "      <td>52.900000</td>\n",
       "      <td>9.500000</td>\n",
       "      <td>28.500000</td>\n",
       "      <td>2.555000</td>\n",
       "      <td>9.504180e+05</td>\n",
       "      <td>4.372880</td>\n",
       "      <td>-7.658537</td>\n",
       "    </tr>\n",
       "    <tr>\n",
       "      <th>50%</th>\n",
       "      <td>89.000000</td>\n",
       "      <td>39.200000</td>\n",
       "      <td>1.184840e+05</td>\n",
       "      <td>2.300000e+04</td>\n",
       "      <td>17.800000</td>\n",
       "      <td>255.000000</td>\n",
       "      <td>1.071500e+04</td>\n",
       "      <td>121.640000</td>\n",
       "      <td>2.100000</td>\n",
       "      <td>2.200000</td>\n",
       "      <td>...</td>\n",
       "      <td>28.400000</td>\n",
       "      <td>1.300000</td>\n",
       "      <td>8.776109e+06</td>\n",
       "      <td>61.600000</td>\n",
       "      <td>14.700000</td>\n",
       "      <td>36.600000</td>\n",
       "      <td>4.670000</td>\n",
       "      <td>4.359150e+06</td>\n",
       "      <td>17.189877</td>\n",
       "      <td>20.939444</td>\n",
       "    </tr>\n",
       "    <tr>\n",
       "      <th>75%</th>\n",
       "      <td>216.500000</td>\n",
       "      <td>54.850000</td>\n",
       "      <td>5.205440e+05</td>\n",
       "      <td>1.230000e+05</td>\n",
       "      <td>28.445000</td>\n",
       "      <td>506.500000</td>\n",
       "      <td>6.194100e+04</td>\n",
       "      <td>155.605000</td>\n",
       "      <td>3.750000</td>\n",
       "      <td>3.565000</td>\n",
       "      <td>...</td>\n",
       "      <td>43.750000</td>\n",
       "      <td>2.875000</td>\n",
       "      <td>2.856227e+07</td>\n",
       "      <td>68.300000</td>\n",
       "      <td>20.300000</td>\n",
       "      <td>47.300000</td>\n",
       "      <td>8.840000</td>\n",
       "      <td>1.460139e+07</td>\n",
       "      <td>40.106102</td>\n",
       "      <td>48.046657</td>\n",
       "    </tr>\n",
       "    <tr>\n",
       "      <th>max</th>\n",
       "      <td>26337.000000</td>\n",
       "      <td>82.600000</td>\n",
       "      <td>1.709824e+07</td>\n",
       "      <td>3.031000e+06</td>\n",
       "      <td>46.080000</td>\n",
       "      <td>1876.000000</td>\n",
       "      <td>9.893038e+06</td>\n",
       "      <td>4583.710000</td>\n",
       "      <td>254.900000</td>\n",
       "      <td>6.910000</td>\n",
       "      <td>...</td>\n",
       "      <td>81.600000</td>\n",
       "      <td>8.420000</td>\n",
       "      <td>1.397715e+09</td>\n",
       "      <td>86.800000</td>\n",
       "      <td>37.200000</td>\n",
       "      <td>219.600000</td>\n",
       "      <td>28.180000</td>\n",
       "      <td>8.429340e+08</td>\n",
       "      <td>64.963051</td>\n",
       "      <td>178.065032</td>\n",
       "    </tr>\n",
       "  </tbody>\n",
       "</table>\n",
       "<p>8 rows × 29 columns</p>\n",
       "</div>"
      ],
      "text/plain": [
       "       Density_people_persqkm  Agricultural_Land_pct  Land_Area_sqkm  \\\n",
       "count              195.000000             195.000000    1.950000e+02   \n",
       "mean               356.764103              37.713333    6.860878e+05   \n",
       "std               1982.888967              22.596702    1.917286e+06   \n",
       "min                  2.000000               0.000000    0.000000e+00   \n",
       "25%                 35.500000              19.800000    2.308300e+04   \n",
       "50%                 89.000000              39.200000    1.184840e+05   \n",
       "75%                216.500000              54.850000    5.205440e+05   \n",
       "max              26337.000000              82.600000    1.709824e+07   \n",
       "\n",
       "       Armed_Forces_size  Birth_Rate  Calling_Code  Co2_Emissions  \\\n",
       "count       1.950000e+02  195.000000    195.000000   1.950000e+02   \n",
       "mean        1.396718e+05   19.592974    358.697436   1.714167e+05   \n",
       "std         3.601490e+05   10.397534    323.434462   8.241858e+05   \n",
       "min         0.000000e+00    0.000000      0.000000   0.000000e+00   \n",
       "25%         4.500000e+03   10.675000     81.500000   1.901500e+03   \n",
       "50%         2.300000e+04   17.800000    255.000000   1.071500e+04   \n",
       "75%         1.230000e+05   28.445000    506.500000   6.194100e+04   \n",
       "max         3.031000e+06   46.080000   1876.000000   9.893038e+06   \n",
       "\n",
       "               CPI  CPI_Change_pct  Fertility_Rate  ...  \\\n",
       "count   195.000000      195.000000      195.000000  ...   \n",
       "mean    173.856667        6.170769        2.601282  ...   \n",
       "std     383.909718       23.493382        1.355777  ...   \n",
       "min       0.000000       -4.300000        0.000000  ...   \n",
       "25%     111.005000        0.650000        1.625000  ...   \n",
       "50%     121.640000        2.100000        2.200000  ...   \n",
       "75%     155.605000        3.750000        3.565000  ...   \n",
       "max    4583.710000      254.900000        6.910000  ...   \n",
       "\n",
       "       Out_of_pocket_health_expenditure  Physicians_per_thousand  \\\n",
       "count                        195.000000               195.000000   \n",
       "mean                          31.465641                 1.773795   \n",
       "std                           19.783417                 1.688826   \n",
       "min                            0.000000                 0.000000   \n",
       "25%                           15.700000                 0.245000   \n",
       "50%                           28.400000                 1.300000   \n",
       "75%                           43.750000                 2.875000   \n",
       "max                           81.600000                 8.420000   \n",
       "\n",
       "         Population  Population_Labor_force_participation_pct  \\\n",
       "count  1.950000e+02                                195.000000   \n",
       "mean   3.917921e+07                                 56.625128   \n",
       "std    1.447454e+08                                 21.152722   \n",
       "min    0.000000e+00                                  0.000000   \n",
       "25%    1.916856e+06                                 52.900000   \n",
       "50%    8.776109e+06                                 61.600000   \n",
       "75%    2.856227e+07                                 68.300000   \n",
       "max    1.397715e+09                                 86.800000   \n",
       "\n",
       "       Tax_revenue_pct  Total_tax_rate  Unemployment_rate  Urban_population  \\\n",
       "count       195.000000      195.000000         195.000000      1.950000e+02   \n",
       "mean         14.364103       38.310256           6.215385      2.173263e+07   \n",
       "std           8.595080       22.208406           5.240580      7.453597e+07   \n",
       "min           0.000000        0.000000           0.000000      0.000000e+00   \n",
       "25%           9.500000       28.500000           2.555000      9.504180e+05   \n",
       "50%          14.700000       36.600000           4.670000      4.359150e+06   \n",
       "75%          20.300000       47.300000           8.840000      1.460139e+07   \n",
       "max          37.200000      219.600000          28.180000      8.429340e+08   \n",
       "\n",
       "         Latitude   Longitude  \n",
       "count  195.000000  195.000000  \n",
       "mean    18.994442   20.128678  \n",
       "std     23.939018   66.559711  \n",
       "min    -40.900557 -175.198242  \n",
       "25%      4.372880   -7.658537  \n",
       "50%     17.189877   20.939444  \n",
       "75%     40.106102   48.046657  \n",
       "max     64.963051  178.065032  \n",
       "\n",
       "[8 rows x 29 columns]"
      ]
     },
     "execution_count": 68,
     "metadata": {},
     "output_type": "execute_result"
    }
   ],
   "source": [
    "df.describe()"
   ]
  },
  {
   "cell_type": "markdown",
   "id": "488d1b1d-1a73-404e-b74a-85ad6269cbb9",
   "metadata": {},
   "source": [
    "## Population Density:\n",
    "\n",
    "### What is the range of population density values across countries?"
   ]
  },
  {
   "cell_type": "code",
   "execution_count": 105,
   "id": "3da30f59-dc39-4db9-81f7-5e253b3b5a3e",
   "metadata": {},
   "outputs": [
    {
     "data": {
      "image/png": "[encoded data removed]",
      "text/plain": [
       "<Figure size 1000x600 with 1 Axes>"
      ]
     },
     "metadata": {},
     "output_type": "display_data"
    }
   ],
   "source": [
    "plt.figure(figsize=(10,6))\n",
    "sb.histplot(df.Density_people_persqkm,bins=20,kde=True)\n",
    "plt.title(\"Population Density by Countries\")\n",
    "plt.xlabel(\"Population Density(P/Km2)\")\n",
    "plt.show()"
   ]
  },
  {
   "cell_type": "markdown",
   "id": "aeacfee4-68ab-4975-ab6a-27947362ad43",
   "metadata": {},
   "source": [
    "### Are there any countries with exceptionally high or low population densities?"
   ]
  },
  {
   "cell_type": "code",
   "execution_count": 70,
   "id": "309a8eea-b7e3-469b-b8fc-1df565d645d5",
   "metadata": {},
   "outputs": [
    {
     "data": {
      "image/png": "[encoded data removed]",
      "text/plain": [
       "<Figure size 640x480 with 1 Axes>"
      ]
     },
     "metadata": {},
     "output_type": "display_data"
    }
   ],
   "source": [
    "sb.boxplot(df.Density_people_persqkm)\n",
    "plt.title(\"Outliers in Population Density\")\n",
    "plt.xlabel(\"Population\")\n",
    "plt.show()"
   ]
  },
  {
   "cell_type": "code",
   "execution_count": 71,
   "id": "e432da36-5a60-4da2-ad7a-d57deaa00950",
   "metadata": {},
   "outputs": [
    {
     "name": "stdout",
     "output_type": "stream",
     "text": [
      "Top 5 Countries with the Highest Population Density:\n",
      "Country\n",
      "Monaco          26337.0\n",
      "Singapore        8358.0\n",
      "Bahrain          2239.0\n",
      "Vatican City     2003.0\n",
      "Maldives         1802.0\n",
      "Name: Density_people_persqkm, dtype: float64\n"
     ]
    }
   ],
   "source": [
    "high_population_density = df.groupby('Country')['Density_people_persqkm'].max().nlargest(5)\n",
    "\n",
    "print(\"Top 5 Countries with the Highest Population Density:\")\n",
    "print(high_population_density)"
   ]
  },
  {
   "cell_type": "code",
   "execution_count": 72,
   "id": "88130b94-b091-41d5-85c2-4345e4d12d30",
   "metadata": {},
   "outputs": [
    {
     "name": "stdout",
     "output_type": "stream",
     "text": [
      "Top 5 Countries with the Lowest Population Density:\n",
      "Country\n",
      "Mongolia     2.0\n",
      "Australia    3.0\n",
      "Iceland      3.0\n",
      "Namibia      3.0\n",
      "Botswana     4.0\n",
      "Name: Density_people_persqkm, dtype: float64\n"
     ]
    }
   ],
   "source": [
    "low_population_density = df.groupby('Country')['Density_people_persqkm'].min().nsmallest(5)\n",
    "\n",
    "print(\"Top 5 Countries with the Lowest Population Density:\")\n",
    "print(low_population_density)"
   ]
  },
  {
   "cell_type": "markdown",
   "id": "76382ec5-a8a6-462f-9b49-ef60826fbb31",
   "metadata": {},
   "source": [
    "## Country Abbreviations:\n",
    "\n",
    "### What abbreviations are used for different countries?"
   ]
  },
  {
   "cell_type": "code",
   "execution_count": 73,
   "id": "8b714806-0745-4569-ae7c-5f06ef69086f",
   "metadata": {},
   "outputs": [
    {
     "data": {
      "text/plain": [
       "[['Afghanistan', 'AF'],\n",
       " ['Albania', 'AL'],\n",
       " ['Algeria', 'DZ'],\n",
       " ['Andorra', 'AD'],\n",
       " ['Angola', 'AO'],\n",
       " ['Antigua and Barbuda', 'AG'],\n",
       " ['Argentina', 'AR'],\n",
       " ['Armenia', 'AM'],\n",
       " ['Australia', 'AU'],\n",
       " ['Austria', 'AT'],\n",
       " ['Azerbaijan', 'AZ'],\n",
       " ['The Bahamas', 'BS'],\n",
       " ['Bahrain', 'BH'],\n",
       " ['Bangladesh', 'BD'],\n",
       " ['Barbados', 'BB'],\n",
       " ['Belarus', 'BY'],\n",
       " ['Belgium', 'BE'],\n",
       " ['Belize', 'BZ'],\n",
       " ['Benin', 'BJ'],\n",
       " ['Bhutan', 'BT'],\n",
       " ['Bolivia', 'BO'],\n",
       " ['Bosnia and Herzegovina', 'BA'],\n",
       " ['Botswana', 'BW'],\n",
       " ['Brazil', 'BR'],\n",
       " ['Brunei', 'BN'],\n",
       " ['Bulgaria', 'BG'],\n",
       " ['Burkina Faso', 'BF'],\n",
       " ['Burundi', 'BI'],\n",
       " ['Ivory Coast', 'CI'],\n",
       " ['Cape Verde', 'CV'],\n",
       " ['Cambodia', 'KH'],\n",
       " ['Cameroon', 'CM'],\n",
       " ['Canada', 'CA'],\n",
       " ['Central African Republic', 'CF'],\n",
       " ['Chad', 'TD'],\n",
       " ['Chile', 'CL'],\n",
       " ['China', 'CN'],\n",
       " ['Colombia', 'CO'],\n",
       " ['Comoros', 'KM'],\n",
       " ['Republic of the Congo', 'unknown'],\n",
       " ['Costa Rica', 'CR'],\n",
       " ['Croatia', 'HR'],\n",
       " ['Cuba', 'CU'],\n",
       " ['Cyprus', 'CY'],\n",
       " ['Czech Republic', 'CZ'],\n",
       " ['Democratic Republic of the Congo', 'CD'],\n",
       " ['Denmark', 'DK'],\n",
       " ['Djibouti', 'DJ'],\n",
       " ['Dominica', 'DM'],\n",
       " ['Dominican Republic', 'DO'],\n",
       " ['Ecuador', 'EC'],\n",
       " ['Egypt', 'EG'],\n",
       " ['El Salvador', 'SV'],\n",
       " ['Equatorial Guinea', 'GQ'],\n",
       " ['Eritrea', 'ER'],\n",
       " ['Estonia', 'EE'],\n",
       " ['Eswatini', 'unknown'],\n",
       " ['Ethiopia', 'ET'],\n",
       " ['Fiji', 'FJ'],\n",
       " ['Finland', 'FI'],\n",
       " ['France', 'FR'],\n",
       " ['Gabon', 'GA'],\n",
       " ['The Gambia', 'GM'],\n",
       " ['Georgia', 'GE'],\n",
       " ['Germany', 'DE'],\n",
       " ['Ghana', 'GH'],\n",
       " ['Greece', 'GR'],\n",
       " ['Grenada', 'GD'],\n",
       " ['Guatemala', 'GT'],\n",
       " ['Guinea', 'GN'],\n",
       " ['Guinea-Bissau', 'GW'],\n",
       " ['Guyana', 'GY'],\n",
       " ['Haiti', 'HT'],\n",
       " ['Vatican City', 'unknown'],\n",
       " ['Honduras', 'HN'],\n",
       " ['Hungary', 'HU'],\n",
       " ['Iceland', 'IS'],\n",
       " ['India', 'IN'],\n",
       " ['Indonesia', 'ID'],\n",
       " ['Iran', 'IR'],\n",
       " ['Iraq', 'IQ'],\n",
       " ['Republic of Ireland', 'unknown'],\n",
       " ['Israel', 'IL'],\n",
       " ['Italy', 'IT'],\n",
       " ['Jamaica', 'JM'],\n",
       " ['Japan', 'JP'],\n",
       " ['Jordan', 'JO'],\n",
       " ['Kazakhstan', 'KZ'],\n",
       " ['Kenya', 'KE'],\n",
       " ['Kiribati', 'KI'],\n",
       " ['Kuwait', 'KW'],\n",
       " ['Kyrgyzstan', 'KG'],\n",
       " ['Laos', 'LA'],\n",
       " ['Latvia', 'LV'],\n",
       " ['Lebanon', 'LB'],\n",
       " ['Lesotho', 'LS'],\n",
       " ['Liberia', 'LR'],\n",
       " ['Libya', 'LY'],\n",
       " ['Liechtenstein', 'LI'],\n",
       " ['Lithuania', 'LT'],\n",
       " ['Luxembourg', 'LU'],\n",
       " ['Madagascar', 'MG'],\n",
       " ['Malawi', 'MW'],\n",
       " ['Malaysia', 'MY'],\n",
       " ['Maldives', 'MV'],\n",
       " ['Mali', 'ML'],\n",
       " ['Malta', 'MT'],\n",
       " ['Marshall Islands', 'MH'],\n",
       " ['Mauritania', 'MR'],\n",
       " ['Mauritius', 'MU'],\n",
       " ['Mexico', 'MX'],\n",
       " ['Federated States of Micronesia', 'FM'],\n",
       " ['Moldova', 'MD'],\n",
       " ['Monaco', 'MC'],\n",
       " ['Mongolia', 'MN'],\n",
       " ['Montenegro', 'ME'],\n",
       " ['Morocco', 'MA'],\n",
       " ['Mozambique', 'MZ'],\n",
       " ['Myanmar', 'MM'],\n",
       " ['Namibia', 'unknown'],\n",
       " ['Nauru', 'NR'],\n",
       " ['Nepal', 'NP'],\n",
       " ['Netherlands', 'NL'],\n",
       " ['New Zealand', 'NZ'],\n",
       " ['Nicaragua', 'NI'],\n",
       " ['Niger', 'NE'],\n",
       " ['Nigeria', 'NG'],\n",
       " ['North Korea', 'KP'],\n",
       " ['North Macedonia', 'unknown'],\n",
       " ['Norway', 'NO'],\n",
       " ['Oman', 'OM'],\n",
       " ['Pakistan', 'PK'],\n",
       " ['Palau', 'PW'],\n",
       " ['Palestinian National Authority', 'unknown'],\n",
       " ['Panama', 'PA'],\n",
       " ['Papua New Guinea', 'PG'],\n",
       " ['Paraguay', 'PY'],\n",
       " ['Peru', 'PE'],\n",
       " ['Philippines', 'PH'],\n",
       " ['Poland', 'PL'],\n",
       " ['Portugal', 'PT'],\n",
       " ['Qatar', 'QA'],\n",
       " ['Romania', 'RO'],\n",
       " ['Russia', 'RU'],\n",
       " ['Rwanda', 'RW'],\n",
       " ['Saint Kitts and Nevis', 'KN'],\n",
       " ['Saint Lucia', 'LC'],\n",
       " ['Saint Vincent and the Grenadines', 'VC'],\n",
       " ['Samoa', 'WS'],\n",
       " ['San Marino', 'SM'],\n",
       " ['S�����������', 'ST'],\n",
       " ['Saudi Arabia', 'SA'],\n",
       " ['Senegal', 'SN'],\n",
       " ['Serbia', 'RS'],\n",
       " ['Seychelles', 'SC'],\n",
       " ['Sierra Leone', 'SL'],\n",
       " ['Singapore', 'SG'],\n",
       " ['Slovakia', 'SK'],\n",
       " ['Slovenia', 'SI'],\n",
       " ['Solomon Islands', 'SB'],\n",
       " ['Somalia', 'SO'],\n",
       " ['South Africa', 'ZA'],\n",
       " ['South Korea', 'KR'],\n",
       " ['South Sudan', 'SS'],\n",
       " ['Spain', 'ES'],\n",
       " ['Sri Lanka', 'LK'],\n",
       " ['Sudan', 'SD'],\n",
       " ['Suriname', 'SR'],\n",
       " ['Sweden', 'SE'],\n",
       " ['Switzerland', 'CH'],\n",
       " ['Syria', 'SY'],\n",
       " ['Tajikistan', 'TJ'],\n",
       " ['Tanzania', 'TZ'],\n",
       " ['Thailand', 'TH'],\n",
       " ['East Timor', 'TL'],\n",
       " ['Togo', 'TG'],\n",
       " ['Tonga', 'TO'],\n",
       " ['Trinidad and Tobago', 'TT'],\n",
       " ['Tunisia', 'TN'],\n",
       " ['Turkey', 'TR'],\n",
       " ['Turkmenistan', 'TM'],\n",
       " ['Tuvalu', 'TV'],\n",
       " ['Uganda', 'UG'],\n",
       " ['Ukraine', 'UA'],\n",
       " ['United Arab Emirates', 'AE'],\n",
       " ['United Kingdom', 'GB'],\n",
       " ['United States', 'US'],\n",
       " ['Uruguay', 'UY'],\n",
       " ['Uzbekistan', 'UZ'],\n",
       " ['Vanuatu', 'VU'],\n",
       " ['Venezuela', 'VE'],\n",
       " ['Vietnam', 'VN'],\n",
       " ['Yemen', 'YE'],\n",
       " ['Zambia', 'ZM'],\n",
       " ['Zimbabwe', 'ZW']]"
      ]
     },
     "execution_count": 73,
     "metadata": {},
     "output_type": "execute_result"
    }
   ],
   "source": [
    "df[['Country', 'Abbreviation']].values.tolist()"
   ]
  },
  {
   "cell_type": "markdown",
   "id": "c5104434-f0b3-439a-9d12-eaf25e54fa4e",
   "metadata": {},
   "source": [
    "## Agricultural Land:\n",
    "\n",
    "### What is the distribution of agricultural land as a percentage of total land area?"
   ]
  },
  {
   "cell_type": "code",
   "execution_count": 106,
   "id": "94d4814b-c31d-4b71-aab0-479f87c24f8e",
   "metadata": {},
   "outputs": [
    {
     "data": {
      "image/png": "[encoded data removed]",
      "text/plain": [
       "<Figure size 1000x600 with 1 Axes>"
      ]
     },
     "metadata": {},
     "output_type": "display_data"
    }
   ],
   "source": [
    "plt.figure(figsize=(10,6))\n",
    "sb.histplot(df.Agricultural_Land_pct,bins=5)\n",
    "plt.title(\"Agricultural Land % of Total Land Area\")\n",
    "plt.xlabel(\"Agricultural Land %\")\n",
    "plt.show()"
   ]
  },
  {
   "cell_type": "markdown",
   "id": "611a87d1-72df-4cc9-9832-5dfb06d3c922",
   "metadata": {},
   "source": [
    "### Are there correlations between agricultural land percentage and variables like population density or CO2 emissions?"
   ]
  },
  {
   "cell_type": "code",
   "execution_count": 75,
   "id": "918e67ef-f625-4ef6-81c8-5b5dedcc3cf9",
   "metadata": {},
   "outputs": [
    {
     "data": {
      "text/html": [
       "<div>\n",
       "<style scoped>\n",
       "    .dataframe tbody tr th:only-of-type {\n",
       "        vertical-align: middle;\n",
       "    }\n",
       "\n",
       "    .dataframe tbody tr th {\n",
       "        vertical-align: top;\n",
       "    }\n",
       "\n",
       "    .dataframe thead th {\n",
       "        text-align: right;\n",
       "    }\n",
       "</style>\n",
       "<table border=\"1\" class=\"dataframe\">\n",
       "  <thead>\n",
       "    <tr style=\"text-align: right;\">\n",
       "      <th></th>\n",
       "      <th>Agricultural_Land_pct</th>\n",
       "      <th>Density_people_persqkm</th>\n",
       "      <th>Co2_Emissions</th>\n",
       "    </tr>\n",
       "  </thead>\n",
       "  <tbody>\n",
       "    <tr>\n",
       "      <th>Agricultural_Land_pct</th>\n",
       "      <td>1.000000</td>\n",
       "      <td>-0.156662</td>\n",
       "      <td>0.071776</td>\n",
       "    </tr>\n",
       "    <tr>\n",
       "      <th>Density_people_persqkm</th>\n",
       "      <td>-0.156662</td>\n",
       "      <td>1.000000</td>\n",
       "      <td>-0.020301</td>\n",
       "    </tr>\n",
       "    <tr>\n",
       "      <th>Co2_Emissions</th>\n",
       "      <td>0.071776</td>\n",
       "      <td>-0.020301</td>\n",
       "      <td>1.000000</td>\n",
       "    </tr>\n",
       "  </tbody>\n",
       "</table>\n",
       "</div>"
      ],
      "text/plain": [
       "                        Agricultural_Land_pct  Density_people_persqkm  \\\n",
       "Agricultural_Land_pct                1.000000               -0.156662   \n",
       "Density_people_persqkm              -0.156662                1.000000   \n",
       "Co2_Emissions                        0.071776               -0.020301   \n",
       "\n",
       "                        Co2_Emissions  \n",
       "Agricultural_Land_pct        0.071776  \n",
       "Density_people_persqkm      -0.020301  \n",
       "Co2_Emissions                1.000000  "
      ]
     },
     "execution_count": 75,
     "metadata": {},
     "output_type": "execute_result"
    }
   ],
   "source": [
    "Corr_Agricultural_Land=df[['Agricultural_Land_pct','Density_people_persqkm','Co2_Emissions']].corr()\n",
    "Corr_Agricultural_Land"
   ]
  },
  {
   "cell_type": "code",
   "execution_count": 78,
   "id": "b2c6305b-1d76-45c3-8c05-19ab6ab7f4ba",
   "metadata": {},
   "outputs": [
    {
     "data": {
      "image/png": "[encoded data removed]",
      "text/plain": [
       "<Figure size 750x750 with 12 Axes>"
      ]
     },
     "metadata": {},
     "output_type": "display_data"
    }
   ],
   "source": [
    "sb.pairplot(Corr_Agricultural_Land)\n",
    "plt.show()"
   ]
  },
  {
   "cell_type": "code",
   "execution_count": 99,
   "id": "ca3941b7-e9bc-4a6e-b464-684c9513ae1b",
   "metadata": {},
   "outputs": [
    {
     "name": "stdout",
     "output_type": "stream",
     "text": [
      "Top 5 Countries with the Highest Agricultural Land Percentage:\n",
      "Country\n",
      "Uruguay         82.6\n",
      "Saudi Arabia    80.8\n",
      "Kazakhstan      80.4\n",
      "South Africa    79.8\n",
      "Burundi         79.2\n",
      "Name: Agricultural_Land_pct, dtype: float64\n",
      "\n",
      "Top 5 Countries with the Lowest Agricultural Land Percentage:\n",
      "Country\n",
      "Suriname            0.6\n",
      "Singapore           0.9\n",
      "The Bahamas         1.4\n",
      "Papua New Guinea    2.6\n",
      "Brunei              2.7\n",
      "Name: Agricultural_Land_pct, dtype: float64\n"
     ]
    }
   ],
   "source": [
    "max_agricultural_land = df.groupby('Country')['Agricultural_Land_pct'].max().nlargest(5)\n",
    "min_agricultural_land =  df[df['Agricultural_Land_pct'] != 0].groupby('Country')['Agricultural_Land_pct'].min().nsmallest(5)\n",
    "\n",
    "print(\"Top 5 Countries with the Highest Agricultural Land Percentage:\")\n",
    "print(max_agricultural_land)\n",
    "\n",
    "print(\"\\nTop 5 Countries with the Lowest Agricultural Land Percentage:\")\n",
    "print(min_agricultural_land)"
   ]
  },
  {
   "cell_type": "markdown",
   "id": "23121ae3-c77f-44c2-b045-96609e0d0174",
   "metadata": {},
   "source": [
    "## Land Area:\n",
    "\n",
    "### What is the range of land areas for different countries?"
   ]
  },
  {
   "cell_type": "code",
   "execution_count": 30,
   "id": "298a0d66-90fe-4ad3-b7e5-acaf28ba43b5",
   "metadata": {},
   "outputs": [
    {
     "data": {
      "image/png": "[encoded data removed]",
      "text/plain": [
       "<Figure size 640x480 with 1 Axes>"
      ]
     },
     "metadata": {},
     "output_type": "display_data"
    }
   ],
   "source": [
    "sb.boxplot(df.Land_Area_sqkm)\n",
    "plt.title(\"Range of Land Area\")\n",
    "plt.xlabel(\"Land Area sqkm\")\n",
    "plt.show()"
   ]
  },
  {
   "cell_type": "markdown",
   "id": "07f3244e-8f2d-484a-8c32-5978266bfd78",
   "metadata": {},
   "source": [
    "### Is there a correlation between land area and population density?"
   ]
  },
  {
   "cell_type": "code",
   "execution_count": 73,
   "id": "65344728-76c2-4f71-abd8-43abfa601aff",
   "metadata": {},
   "outputs": [
    {
     "data": {
      "text/html": [
       "<div>\n",
       "<style scoped>\n",
       "    .dataframe tbody tr th:only-of-type {\n",
       "        vertical-align: middle;\n",
       "    }\n",
       "\n",
       "    .dataframe tbody tr th {\n",
       "        vertical-align: top;\n",
       "    }\n",
       "\n",
       "    .dataframe thead th {\n",
       "        text-align: right;\n",
       "    }\n",
       "</style>\n",
       "<table border=\"1\" class=\"dataframe\">\n",
       "  <thead>\n",
       "    <tr style=\"text-align: right;\">\n",
       "      <th></th>\n",
       "      <th>Land_Area_sqkm</th>\n",
       "      <th>Density_people_persqkm</th>\n",
       "    </tr>\n",
       "  </thead>\n",
       "  <tbody>\n",
       "    <tr>\n",
       "      <th>Land_Area_sqkm</th>\n",
       "      <td>1.000000</td>\n",
       "      <td>-0.053711</td>\n",
       "    </tr>\n",
       "    <tr>\n",
       "      <th>Density_people_persqkm</th>\n",
       "      <td>-0.053711</td>\n",
       "      <td>1.000000</td>\n",
       "    </tr>\n",
       "  </tbody>\n",
       "</table>\n",
       "</div>"
      ],
      "text/plain": [
       "                        Land_Area_sqkm  Density_people_persqkm\n",
       "Land_Area_sqkm                1.000000               -0.053711\n",
       "Density_people_persqkm       -0.053711                1.000000"
      ]
     },
     "execution_count": 73,
     "metadata": {},
     "output_type": "execute_result"
    }
   ],
   "source": [
    "Corr_Land_Area=df[['Land_Area_sqkm','Density_people_persqkm']].corr()\n",
    "Corr_Land_Area"
   ]
  },
  {
   "cell_type": "code",
   "execution_count": 75,
   "id": "6ba5cd83-46f1-4d0b-a194-9cdd9ac66621",
   "metadata": {},
   "outputs": [
    {
     "data": {
      "image/png": "[encoded data removed]",
      "text/plain": [
       "<Figure size 640x480 with 1 Axes>"
      ]
     },
     "metadata": {},
     "output_type": "display_data"
    }
   ],
   "source": [
    "plt.scatter(df.Land_Area_sqkm,df.Density_people_persqkm)\n",
    "plt.show()"
   ]
  },
  {
   "cell_type": "code",
   "execution_count": 100,
   "id": "1ae2b602-ad06-4654-a8d1-e20560e3aa65",
   "metadata": {},
   "outputs": [
    {
     "name": "stdout",
     "output_type": "stream",
     "text": [
      "Top 5 Countries with the Largest Land Areas:\n",
      "Country\n",
      "Russia           17098240.0\n",
      "Canada            9984670.0\n",
      "United States     9833517.0\n",
      "China             9596960.0\n",
      "Brazil            8515770.0\n",
      "Name: Land_Area_sqkm, dtype: float64\n",
      "\n",
      "Top 5 Countries with the Smallest Land Areas:\n",
      "Country\n",
      "Monaco             2.0\n",
      "Nauru             21.0\n",
      "Tuvalu            26.0\n",
      "San Marino        61.0\n",
      "Liechtenstein    160.0\n",
      "Name: Land_Area_sqkm, dtype: float64\n"
     ]
    }
   ],
   "source": [
    "max_land=df.groupby('Country')['Land_Area_sqkm'].max().nlargest(5)\n",
    "min_land= df[df['Land_Area_sqkm'] != 0].groupby('Country')['Land_Area_sqkm'].min().nsmallest(5)\n",
    "\n",
    "print(\"Top 5 Countries with the Largest Land Areas:\")\n",
    "print(max_land)\n",
    "\n",
    "print(\"\\nTop 5 Countries with the Smallest Land Areas:\")\n",
    "print(min_land)\n",
    "# print(df.Land_Area_Km2.mean())"
   ]
  },
  {
   "cell_type": "markdown",
   "id": "24b598ec-552a-44ff-8c88-9fc577532950",
   "metadata": {},
   "source": [
    "## Armed Forces:\n",
    "\n",
    "### What is the distribution of armed forces sizes across countries?"
   ]
  },
  {
   "cell_type": "code",
   "execution_count": 76,
   "id": "9e68049f-9500-45d0-bca8-b7492c5ed14b",
   "metadata": {},
   "outputs": [
    {
     "data": {
      "image/png": "[encoded data removed]",
      "text/plain": [
       "<Figure size 640x480 with 1 Axes>"
      ]
     },
     "metadata": {},
     "output_type": "display_data"
    }
   ],
   "source": [
    "sb.stripplot(df.Armed_Forces_size)\n",
    "plt.show()"
   ]
  },
  {
   "cell_type": "markdown",
   "id": "c0d7ed73-41cf-4af0-b36a-df71c9b76bc1",
   "metadata": {},
   "source": [
    "### Are there correlations between armed forces size and other variables, such as population or land area?"
   ]
  },
  {
   "cell_type": "code",
   "execution_count": 77,
   "id": "b13277cb-36f6-458e-8f48-d3234353e7e8",
   "metadata": {},
   "outputs": [
    {
     "data": {
      "text/html": [
       "<div>\n",
       "<style scoped>\n",
       "    .dataframe tbody tr th:only-of-type {\n",
       "        vertical-align: middle;\n",
       "    }\n",
       "\n",
       "    .dataframe tbody tr th {\n",
       "        vertical-align: top;\n",
       "    }\n",
       "\n",
       "    .dataframe thead th {\n",
       "        text-align: right;\n",
       "    }\n",
       "</style>\n",
       "<table border=\"1\" class=\"dataframe\">\n",
       "  <thead>\n",
       "    <tr style=\"text-align: right;\">\n",
       "      <th></th>\n",
       "      <th>Armed_Forces_size</th>\n",
       "      <th>Population</th>\n",
       "      <th>Land_Area_sqkm</th>\n",
       "    </tr>\n",
       "  </thead>\n",
       "  <tbody>\n",
       "    <tr>\n",
       "      <th>Armed_Forces_size</th>\n",
       "      <td>1.000000</td>\n",
       "      <td>0.87685</td>\n",
       "      <td>0.560414</td>\n",
       "    </tr>\n",
       "    <tr>\n",
       "      <th>Population</th>\n",
       "      <td>0.876850</td>\n",
       "      <td>1.00000</td>\n",
       "      <td>0.446990</td>\n",
       "    </tr>\n",
       "    <tr>\n",
       "      <th>Land_Area_sqkm</th>\n",
       "      <td>0.560414</td>\n",
       "      <td>0.44699</td>\n",
       "      <td>1.000000</td>\n",
       "    </tr>\n",
       "  </tbody>\n",
       "</table>\n",
       "</div>"
      ],
      "text/plain": [
       "                   Armed_Forces_size  Population  Land_Area_sqkm\n",
       "Armed_Forces_size           1.000000     0.87685        0.560414\n",
       "Population                  0.876850     1.00000        0.446990\n",
       "Land_Area_sqkm              0.560414     0.44699        1.000000"
      ]
     },
     "execution_count": 77,
     "metadata": {},
     "output_type": "execute_result"
    }
   ],
   "source": [
    "Corr_Armed_Forces=df[['Armed_Forces_size','Population','Land_Area_sqkm']].corr()\n",
    "Corr_Armed_Forces"
   ]
  },
  {
   "cell_type": "code",
   "execution_count": 79,
   "id": "3ce9f070-0cd4-4622-a831-d86c2c6e5ed9",
   "metadata": {},
   "outputs": [
    {
     "data": {
      "image/png": "[encoded data removed]",
      "text/plain": [
       "<Figure size 2000x800 with 2 Axes>"
      ]
     },
     "metadata": {},
     "output_type": "display_data"
    }
   ],
   "source": [
    "plt.figure(figsize=(20,8))\n",
    "sb.heatmap(Corr_Armed_Forces,annot=True)\n",
    "plt.show()"
   ]
  },
  {
   "cell_type": "code",
   "execution_count": 101,
   "id": "95d624b4-2d96-4a59-a025-4cb3dc461bbf",
   "metadata": {},
   "outputs": [
    {
     "name": "stdout",
     "output_type": "stream",
     "text": [
      "Top 5 Countries with the Largest Armed Forces:\n",
      "Country\n",
      "India            3031000.0\n",
      "China            2695000.0\n",
      "North Korea      1469000.0\n",
      "Russia           1454000.0\n",
      "United States    1359000.0\n",
      "Name: Armed_Forces_size, dtype: float64\n",
      "\n",
      "Top 5 Countries with the Smallest Armed Forces:\n",
      "Country\n",
      "Barbados             1000.0\n",
      "Cape Verde           1000.0\n",
      "Equatorial Guinea    1000.0\n",
      "S�����������         1000.0\n",
      "The Bahamas          1000.0\n",
      "Name: Armed_Forces_size, dtype: float64\n"
     ]
    }
   ],
   "source": [
    "max_army = df.groupby('Country')['Armed_Forces_size'].max().nlargest(5)\n",
    "min_army =  df[df['Armed_Forces_size'] != 0].groupby('Country')['Armed_Forces_size'].min().nsmallest(5)\n",
    "\n",
    "print(\"Top 5 Countries with the Largest Armed Forces:\")\n",
    "print(max_army)\n",
    "\n",
    "print(\"\\nTop 5 Countries with the Smallest Armed Forces:\")\n",
    "print(min_army)"
   ]
  },
  {
   "cell_type": "markdown",
   "id": "929946b3-e5b9-4900-abac-a6579f1f6641",
   "metadata": {},
   "source": [
    "## Birth Rate:\n",
    "\n",
    "### What is the range of birth rates across countries?"
   ]
  },
  {
   "cell_type": "code",
   "execution_count": 107,
   "id": "7d7fc87d-93ed-4b54-9397-e6aee335d181",
   "metadata": {},
   "outputs": [
    {
     "data": {
      "image/png": "[encoded data removed]",
      "text/plain": [
       "<Figure size 1000x600 with 1 Axes>"
      ]
     },
     "metadata": {},
     "output_type": "display_data"
    }
   ],
   "source": [
    "plt.figure(figsize=(10, 6))\n",
    "sb.histplot(df['Birth_Rate'], kde=True)\n",
    "plt.title(\"Distribution of Birth Rates Across Countries\")\n",
    "plt.xlabel(\"Birth Rate\")\n",
    "plt.show()"
   ]
  },
  {
   "cell_type": "markdown",
   "id": "5a63dc1b-498d-4d8e-adb0-0023cb8a9a26",
   "metadata": {},
   "source": [
    "### Are there correlations between birth rate and other variables like GDP or population density?"
   ]
  },
  {
   "cell_type": "code",
   "execution_count": 82,
   "id": "9e65ee7e-8839-48da-bdf8-66bc3bc25326",
   "metadata": {},
   "outputs": [
    {
     "data": {
      "text/html": [
       "<div>\n",
       "<style scoped>\n",
       "    .dataframe tbody tr th:only-of-type {\n",
       "        vertical-align: middle;\n",
       "    }\n",
       "\n",
       "    .dataframe tbody tr th {\n",
       "        vertical-align: top;\n",
       "    }\n",
       "\n",
       "    .dataframe thead th {\n",
       "        text-align: right;\n",
       "    }\n",
       "</style>\n",
       "<table border=\"1\" class=\"dataframe\">\n",
       "  <thead>\n",
       "    <tr style=\"text-align: right;\">\n",
       "      <th></th>\n",
       "      <th>Birth_Rate</th>\n",
       "      <th>Density_people_persqkm</th>\n",
       "      <th>GDP</th>\n",
       "    </tr>\n",
       "  </thead>\n",
       "  <tbody>\n",
       "    <tr>\n",
       "      <th>Birth_Rate</th>\n",
       "      <td>1.000000</td>\n",
       "      <td>-0.147221</td>\n",
       "      <td>-0.157436</td>\n",
       "    </tr>\n",
       "    <tr>\n",
       "      <th>Density_people_persqkm</th>\n",
       "      <td>-0.147221</td>\n",
       "      <td>1.000000</td>\n",
       "      <td>-0.018878</td>\n",
       "    </tr>\n",
       "    <tr>\n",
       "      <th>GDP</th>\n",
       "      <td>-0.157436</td>\n",
       "      <td>-0.018878</td>\n",
       "      <td>1.000000</td>\n",
       "    </tr>\n",
       "  </tbody>\n",
       "</table>\n",
       "</div>"
      ],
      "text/plain": [
       "                        Birth_Rate  Density_people_persqkm       GDP\n",
       "Birth_Rate                1.000000               -0.147221 -0.157436\n",
       "Density_people_persqkm   -0.147221                1.000000 -0.018878\n",
       "GDP                      -0.157436               -0.018878  1.000000"
      ]
     },
     "execution_count": 82,
     "metadata": {},
     "output_type": "execute_result"
    }
   ],
   "source": [
    "Corr_Birth_Rate=df[['Birth_Rate','Density_people_persqkm','GDP']].corr()\n",
    "Corr_Birth_Rate"
   ]
  },
  {
   "cell_type": "code",
   "execution_count": 102,
   "id": "7706b248-bf16-4b03-92cf-b19e9d743860",
   "metadata": {},
   "outputs": [
    {
     "name": "stdout",
     "output_type": "stream",
     "text": [
      "Top 5 Countries with the Highest Birth Rates:\n",
      "Country\n",
      "Niger                               46.08\n",
      "Chad                                42.17\n",
      "Somalia                             41.75\n",
      "Mali                                41.54\n",
      "Democratic Republic of the Congo    41.18\n",
      "Name: Birth_Rate, dtype: float64\n",
      "\n",
      "Top 5 Countries with the Lowest Birth Rates:\n",
      "Country\n",
      "Monaco         5.9\n",
      "South Korea    6.4\n",
      "San Marino     6.8\n",
      "Andorra        7.2\n",
      "Italy          7.3\n",
      "Name: Birth_Rate, dtype: float64\n"
     ]
    }
   ],
   "source": [
    "max_birth_rate = df.groupby('Country')['Birth_Rate'].max().nlargest(5)\n",
    "min_birth_rate =  df[df['Birth_Rate'] != 0].groupby('Country')['Birth_Rate'].min().nsmallest(5)\n",
    "\n",
    "print(\"Top 5 Countries with the Highest Birth Rates:\")\n",
    "print(max_birth_rate)\n",
    "\n",
    "print(\"\\nTop 5 Countries with the Lowest Birth Rates:\")\n",
    "print(min_birth_rate)"
   ]
  },
  {
   "cell_type": "markdown",
   "id": "6d38b3ae-fb31-4318-8062-f777b7510643",
   "metadata": {},
   "source": [
    "## Calling Codes:\n",
    "\n",
    "### What are the calling codes for different countries?"
   ]
  },
  {
   "cell_type": "code",
   "execution_count": 84,
   "id": "73abcc1d-6656-4f36-b393-4d5b968bd147",
   "metadata": {},
   "outputs": [
    {
     "data": {
      "text/html": [
       "<div>\n",
       "<style scoped>\n",
       "    .dataframe tbody tr th:only-of-type {\n",
       "        vertical-align: middle;\n",
       "    }\n",
       "\n",
       "    .dataframe tbody tr th {\n",
       "        vertical-align: top;\n",
       "    }\n",
       "\n",
       "    .dataframe thead th {\n",
       "        text-align: right;\n",
       "    }\n",
       "</style>\n",
       "<table border=\"1\" class=\"dataframe\">\n",
       "  <thead>\n",
       "    <tr style=\"text-align: right;\">\n",
       "      <th></th>\n",
       "      <th>Country</th>\n",
       "      <th>Calling_Code</th>\n",
       "    </tr>\n",
       "  </thead>\n",
       "  <tbody>\n",
       "    <tr>\n",
       "      <th>0</th>\n",
       "      <td>Afghanistan</td>\n",
       "      <td>93.0</td>\n",
       "    </tr>\n",
       "    <tr>\n",
       "      <th>1</th>\n",
       "      <td>Albania</td>\n",
       "      <td>355.0</td>\n",
       "    </tr>\n",
       "    <tr>\n",
       "      <th>2</th>\n",
       "      <td>Algeria</td>\n",
       "      <td>213.0</td>\n",
       "    </tr>\n",
       "    <tr>\n",
       "      <th>3</th>\n",
       "      <td>Andorra</td>\n",
       "      <td>376.0</td>\n",
       "    </tr>\n",
       "    <tr>\n",
       "      <th>4</th>\n",
       "      <td>Angola</td>\n",
       "      <td>244.0</td>\n",
       "    </tr>\n",
       "    <tr>\n",
       "      <th>...</th>\n",
       "      <td>...</td>\n",
       "      <td>...</td>\n",
       "    </tr>\n",
       "    <tr>\n",
       "      <th>190</th>\n",
       "      <td>Venezuela</td>\n",
       "      <td>58.0</td>\n",
       "    </tr>\n",
       "    <tr>\n",
       "      <th>191</th>\n",
       "      <td>Vietnam</td>\n",
       "      <td>84.0</td>\n",
       "    </tr>\n",
       "    <tr>\n",
       "      <th>192</th>\n",
       "      <td>Yemen</td>\n",
       "      <td>967.0</td>\n",
       "    </tr>\n",
       "    <tr>\n",
       "      <th>193</th>\n",
       "      <td>Zambia</td>\n",
       "      <td>260.0</td>\n",
       "    </tr>\n",
       "    <tr>\n",
       "      <th>194</th>\n",
       "      <td>Zimbabwe</td>\n",
       "      <td>263.0</td>\n",
       "    </tr>\n",
       "  </tbody>\n",
       "</table>\n",
       "<p>195 rows × 2 columns</p>\n",
       "</div>"
      ],
      "text/plain": [
       "         Country  Calling_Code\n",
       "0    Afghanistan          93.0\n",
       "1        Albania         355.0\n",
       "2        Algeria         213.0\n",
       "3        Andorra         376.0\n",
       "4         Angola         244.0\n",
       "..           ...           ...\n",
       "190    Venezuela          58.0\n",
       "191      Vietnam          84.0\n",
       "192        Yemen         967.0\n",
       "193       Zambia         260.0\n",
       "194     Zimbabwe         263.0\n",
       "\n",
       "[195 rows x 2 columns]"
      ]
     },
     "execution_count": 84,
     "metadata": {},
     "output_type": "execute_result"
    }
   ],
   "source": [
    "Calling_Code=df[['Country','Calling_Code']]\n",
    "Calling_Code"
   ]
  },
  {
   "cell_type": "markdown",
   "id": "dce58a35-aadc-4750-af14-9657922e7b2b",
   "metadata": {},
   "source": [
    "## Capital/Major City:\n",
    "\n",
    "### What are the capitals or major cities for different countries?"
   ]
  },
  {
   "cell_type": "code",
   "execution_count": 40,
   "id": "e3d49084-1d22-415b-a3e2-e956199e242b",
   "metadata": {},
   "outputs": [
    {
     "data": {
      "text/plain": [
       "[['Afghanistan', 'Kabul'],\n",
       " ['Albania', 'Tirana'],\n",
       " ['Algeria', 'Algiers'],\n",
       " ['Andorra', 'Andorra la Vella'],\n",
       " ['Angola', 'Luanda'],\n",
       " ['Antigua and Barbuda', \"St. John's, Saint John\"],\n",
       " ['Argentina', 'Buenos Aires'],\n",
       " ['Armenia', 'Yerevan'],\n",
       " ['Australia', 'Canberra'],\n",
       " ['Austria', 'Vienna'],\n",
       " ['Azerbaijan', 'Baku'],\n",
       " ['The Bahamas', 'Nassau, Bahamas'],\n",
       " ['Bahrain', 'Manama'],\n",
       " ['Bangladesh', 'Dhaka'],\n",
       " ['Barbados', 'Bridgetown'],\n",
       " ['Belarus', 'Minsk'],\n",
       " ['Belgium', 'City of Brussels'],\n",
       " ['Belize', 'Belmopan'],\n",
       " ['Benin', 'Porto-Novo'],\n",
       " ['Bhutan', 'Thimphu'],\n",
       " ['Bolivia', 'Sucre'],\n",
       " ['Bosnia and Herzegovina', 'Sarajevo'],\n",
       " ['Botswana', 'Gaborone'],\n",
       " ['Brazil', 'Bras���'],\n",
       " ['Brunei', 'Bandar Seri Begawan'],\n",
       " ['Bulgaria', 'Sofia'],\n",
       " ['Burkina Faso', 'Ouagadougou'],\n",
       " ['Burundi', 'Bujumbura'],\n",
       " ['Ivory Coast', 'Yamoussoukro'],\n",
       " ['Cape Verde', 'Praia'],\n",
       " ['Cambodia', 'Phnom Penh'],\n",
       " ['Cameroon', 'Yaound�'],\n",
       " ['Canada', 'Ottawa'],\n",
       " ['Central African Republic', 'Bangui'],\n",
       " ['Chad', \"N'Djamena\"],\n",
       " ['Chile', 'Santiago'],\n",
       " ['China', 'Beijing'],\n",
       " ['Colombia', 'Bogot�'],\n",
       " ['Comoros', 'Moroni, Comoros'],\n",
       " ['Republic of the Congo', 'Brazzaville'],\n",
       " ['Costa Rica', 'San Jos������'],\n",
       " ['Croatia', 'Zagreb'],\n",
       " ['Cuba', 'Havana'],\n",
       " ['Cyprus', 'Nicosia'],\n",
       " ['Czech Republic', 'Prague'],\n",
       " ['Democratic Republic of the Congo', 'Kinshasa'],\n",
       " ['Denmark', 'Copenhagen'],\n",
       " ['Djibouti', 'Djibouti City'],\n",
       " ['Dominica', 'Roseau'],\n",
       " ['Dominican Republic', 'Santo Domingo'],\n",
       " ['Ecuador', 'Quito'],\n",
       " ['Egypt', 'Cairo'],\n",
       " ['El Salvador', 'San Salvador'],\n",
       " ['Equatorial Guinea', 'Malabo'],\n",
       " ['Eritrea', 'Asmara'],\n",
       " ['Estonia', 'Tallinn'],\n",
       " ['Eswatini', 'Mbabane'],\n",
       " ['Ethiopia', 'Addis Ababa'],\n",
       " ['Fiji', 'Suva'],\n",
       " ['Finland', 'Helsinki'],\n",
       " ['France', 'Paris'],\n",
       " ['Gabon', 'Libreville'],\n",
       " ['The Gambia', 'Banjul'],\n",
       " ['Georgia', 'Tbilisi'],\n",
       " ['Germany', 'Berlin'],\n",
       " ['Ghana', 'Accra'],\n",
       " ['Greece', 'Athens'],\n",
       " ['Grenada', \"St. George's, Grenada\"],\n",
       " ['Guatemala', 'Guatemala City'],\n",
       " ['Guinea', 'Conakry'],\n",
       " ['Guinea-Bissau', 'Bissau'],\n",
       " ['Guyana', 'Georgetown, Guyana'],\n",
       " ['Haiti', 'Port-au-Prince'],\n",
       " ['Vatican City', 'Vatican City'],\n",
       " ['Honduras', 'Tegucigalpa'],\n",
       " ['Hungary', 'Budapest'],\n",
       " ['Iceland', 'Reykjav��'],\n",
       " ['India', 'New Delhi'],\n",
       " ['Indonesia', 'Jakarta'],\n",
       " ['Iran', 'Tehran'],\n",
       " ['Iraq', 'Baghdad'],\n",
       " ['Republic of Ireland', 'Dublin'],\n",
       " ['Israel', 'Jerusalem'],\n",
       " ['Italy', 'Rome'],\n",
       " ['Jamaica', 'Kingston, Jamaica'],\n",
       " ['Japan', 'Tokyo'],\n",
       " ['Jordan', 'Amman'],\n",
       " ['Kazakhstan', 'Astana'],\n",
       " ['Kenya', 'Nairobi'],\n",
       " ['Kiribati', 'South Tarawa'],\n",
       " ['Kuwait', 'Kuwait City'],\n",
       " ['Kyrgyzstan', 'Bishkek'],\n",
       " ['Laos', 'Vientiane'],\n",
       " ['Latvia', 'Riga'],\n",
       " ['Lebanon', 'Beirut'],\n",
       " ['Lesotho', 'Maseru'],\n",
       " ['Liberia', 'Monrovia'],\n",
       " ['Libya', 'unknown'],\n",
       " ['Liechtenstein', 'Vaduz'],\n",
       " ['Lithuania', 'Vilnius'],\n",
       " ['Luxembourg', 'Luxembourg City'],\n",
       " ['Madagascar', 'Antananarivo'],\n",
       " ['Malawi', 'Lilongwe'],\n",
       " ['Malaysia', 'Kuala Lumpur'],\n",
       " ['Maldives', 'Mal�'],\n",
       " ['Mali', 'Bamako'],\n",
       " ['Malta', 'Valletta'],\n",
       " ['Marshall Islands', 'Majuro'],\n",
       " ['Mauritania', 'Nouakchott'],\n",
       " ['Mauritius', 'Port Louis'],\n",
       " ['Mexico', 'Mexico City'],\n",
       " ['Federated States of Micronesia', 'Palikir'],\n",
       " ['Moldova', 'Chi����'],\n",
       " ['Monaco', 'Monaco City'],\n",
       " ['Mongolia', 'Ulaanbaatar'],\n",
       " ['Montenegro', 'Podgorica'],\n",
       " ['Morocco', 'Rabat'],\n",
       " ['Mozambique', 'Maputo'],\n",
       " ['Myanmar', 'Naypyidaw'],\n",
       " ['Namibia', 'Windhoek'],\n",
       " ['Nauru', 'Yaren District'],\n",
       " ['Nepal', 'Kathmandu'],\n",
       " ['Netherlands', 'Amsterdam'],\n",
       " ['New Zealand', 'Wellington'],\n",
       " ['Nicaragua', 'Managua'],\n",
       " ['Niger', 'Niamey'],\n",
       " ['Nigeria', 'Abuja'],\n",
       " ['North Korea', 'Pyongyang'],\n",
       " ['North Macedonia', 'Skopje'],\n",
       " ['Norway', 'Oslo'],\n",
       " ['Oman', 'Muscat'],\n",
       " ['Pakistan', 'Islamabad'],\n",
       " ['Palau', 'Ngerulmud'],\n",
       " ['Palestinian National Authority', 'unknown'],\n",
       " ['Panama', 'Panama City'],\n",
       " ['Papua New Guinea', 'Port Moresby'],\n",
       " ['Paraguay', 'Asunci��'],\n",
       " ['Peru', 'Lima'],\n",
       " ['Philippines', 'Manila'],\n",
       " ['Poland', 'Warsaw'],\n",
       " ['Portugal', 'Lisbon'],\n",
       " ['Qatar', 'Doha'],\n",
       " ['Romania', 'Bucharest'],\n",
       " ['Russia', 'Moscow'],\n",
       " ['Rwanda', 'Kigali'],\n",
       " ['Saint Kitts and Nevis', 'Basseterre'],\n",
       " ['Saint Lucia', 'Castries'],\n",
       " ['Saint Vincent and the Grenadines', 'Kingstown'],\n",
       " ['Samoa', 'Apia'],\n",
       " ['San Marino', 'City of San Marino'],\n",
       " ['S�����������', 'S����'],\n",
       " ['Saudi Arabia', 'Riyadh'],\n",
       " ['Senegal', 'Dakar'],\n",
       " ['Serbia', 'Belgrade'],\n",
       " ['Seychelles', 'Victoria, Seychelles'],\n",
       " ['Sierra Leone', 'Freetown'],\n",
       " ['Singapore', 'unknown'],\n",
       " ['Slovakia', 'Bratislava'],\n",
       " ['Slovenia', 'Ljubljana'],\n",
       " ['Solomon Islands', 'Honiara'],\n",
       " ['Somalia', 'Mogadishu'],\n",
       " ['South Africa', 'Pretoria'],\n",
       " ['South Korea', 'Seoul'],\n",
       " ['South Sudan', 'Juba'],\n",
       " ['Spain', 'Madrid'],\n",
       " ['Sri Lanka', 'Colombo'],\n",
       " ['Sudan', 'Khartoum'],\n",
       " ['Suriname', 'Paramaribo'],\n",
       " ['Sweden', 'Stockholm'],\n",
       " ['Switzerland', 'Bern'],\n",
       " ['Syria', 'Damascus'],\n",
       " ['Tajikistan', 'Dushanbe'],\n",
       " ['Tanzania', 'Dodoma'],\n",
       " ['Thailand', 'Bangkok'],\n",
       " ['East Timor', 'Dili'],\n",
       " ['Togo', 'Lom�'],\n",
       " ['Tonga', 'Nuku����'],\n",
       " ['Trinidad and Tobago', 'Port of Spain'],\n",
       " ['Tunisia', 'Tunis'],\n",
       " ['Turkey', 'Ankara'],\n",
       " ['Turkmenistan', 'Ashgabat'],\n",
       " ['Tuvalu', 'Funafuti'],\n",
       " ['Uganda', 'Kampala'],\n",
       " ['Ukraine', 'Kyiv'],\n",
       " ['United Arab Emirates', 'Abu Dhabi'],\n",
       " ['United Kingdom', 'London'],\n",
       " ['United States', 'Washington, D.C.'],\n",
       " ['Uruguay', 'Montevideo'],\n",
       " ['Uzbekistan', 'Tashkent'],\n",
       " ['Vanuatu', 'Port Vila'],\n",
       " ['Venezuela', 'Caracas'],\n",
       " ['Vietnam', 'Hanoi'],\n",
       " ['Yemen', 'Sanaa'],\n",
       " ['Zambia', 'Lusaka'],\n",
       " ['Zimbabwe', 'Harare']]"
      ]
     },
     "execution_count": 40,
     "metadata": {},
     "output_type": "execute_result"
    }
   ],
   "source": [
    "df[['Country','Capital_Major_City']].values.tolist()"
   ]
  },
  {
   "cell_type": "markdown",
   "id": "fe47be9f-6c09-4fbf-a0ff-7318d6ed8b20",
   "metadata": {},
   "source": [
    "## CO2 Emissions:\n",
    "\n",
    "### What is the distribution of CO2 emissions across countries?"
   ]
  },
  {
   "cell_type": "code",
   "execution_count": 108,
   "id": "8c3bb458-b93e-475d-a187-095aeb259ac3",
   "metadata": {},
   "outputs": [
    {
     "data": {
      "image/png": "[encoded data removed]",
      "text/plain": [
       "<Figure size 1000x600 with 1 Axes>"
      ]
     },
     "metadata": {},
     "output_type": "display_data"
    }
   ],
   "source": [
    "plt.figure(figsize=(10, 6))\n",
    "sb.histplot(df['Co2_Emissions'],bins=20,kde=True)\n",
    "plt.title(\"Distribution of CO2 Emissions Across Countries\")\n",
    "plt.xlabel(\"CO2 Emissions\")\n",
    "plt.show()"
   ]
  },
  {
   "cell_type": "markdown",
   "id": "c57ff589-75ef-49d1-9bfe-6aa0de0ee304",
   "metadata": {},
   "source": [
    "### Are there correlations between CO2 emissions and variables like population size or industrial activity?"
   ]
  },
  {
   "cell_type": "code",
   "execution_count": 87,
   "id": "feb1c60b-10c6-4b86-9e0a-0049bb540398",
   "metadata": {
    "scrolled": true
   },
   "outputs": [
    {
     "data": {
      "text/html": [
       "<div>\n",
       "<style scoped>\n",
       "    .dataframe tbody tr th:only-of-type {\n",
       "        vertical-align: middle;\n",
       "    }\n",
       "\n",
       "    .dataframe tbody tr th {\n",
       "        vertical-align: top;\n",
       "    }\n",
       "\n",
       "    .dataframe thead th {\n",
       "        text-align: right;\n",
       "    }\n",
       "</style>\n",
       "<table border=\"1\" class=\"dataframe\">\n",
       "  <thead>\n",
       "    <tr style=\"text-align: right;\">\n",
       "      <th></th>\n",
       "      <th>Co2_Emissions</th>\n",
       "      <th>Urban_population</th>\n",
       "    </tr>\n",
       "  </thead>\n",
       "  <tbody>\n",
       "    <tr>\n",
       "      <th>Co2_Emissions</th>\n",
       "      <td>1.00000</td>\n",
       "      <td>0.92631</td>\n",
       "    </tr>\n",
       "    <tr>\n",
       "      <th>Urban_population</th>\n",
       "      <td>0.92631</td>\n",
       "      <td>1.00000</td>\n",
       "    </tr>\n",
       "  </tbody>\n",
       "</table>\n",
       "</div>"
      ],
      "text/plain": [
       "                  Co2_Emissions  Urban_population\n",
       "Co2_Emissions           1.00000           0.92631\n",
       "Urban_population        0.92631           1.00000"
      ]
     },
     "execution_count": 87,
     "metadata": {},
     "output_type": "execute_result"
    }
   ],
   "source": [
    "Corr_CO2Emissions=df[['Co2_Emissions','Urban_population']].corr()\n",
    "Corr_CO2Emissions"
   ]
  },
  {
   "cell_type": "code",
   "execution_count": 92,
   "id": "583912c8-8a5e-4014-84a1-2544be3bcbfc",
   "metadata": {},
   "outputs": [
    {
     "data": {
      "image/png": "[encoded data removed]",
      "text/plain": [
       "<Figure size 640x480 with 1 Axes>"
      ]
     },
     "metadata": {},
     "output_type": "display_data"
    }
   ],
   "source": [
    "plt.scatter(df.Co2_Emissions,df.Urban_population)\n",
    "plt.show()"
   ]
  },
  {
   "cell_type": "code",
   "execution_count": 86,
   "id": "2292d0f7-fef3-4278-89c2-6066e4d6b0cc",
   "metadata": {},
   "outputs": [
    {
     "name": "stdout",
     "output_type": "stream",
     "text": [
      "Top 5 Countries with the Highest CO2 Emissions:\n",
      "Country\n",
      "China            9893038.0\n",
      "United States    5006302.0\n",
      "India            2407672.0\n",
      "Russia           1732027.0\n",
      "Japan            1135886.0\n",
      "Name: Co2_Emissions, dtype: float64\n",
      "\n",
      "Top 5 Countries with the Lowest CO2 Emissions:\n",
      "Country\n",
      "Tuvalu            11.0\n",
      "Liechtenstein     51.0\n",
      "Kiribati          66.0\n",
      "S�����������     121.0\n",
      "Tonga            128.0\n",
      "Name: Co2_Emissions, dtype: float64\n"
     ]
    }
   ],
   "source": [
    "max_co2_emissions = df.groupby('Country')['Co2_Emissions'].max().nlargest(5)\n",
    "min_co2_emissions = df[df['Co2_Emissions'] != 0].groupby('Country')['Co2_Emissions'].min().nsmallest(5)\n",
    "\n",
    "print(\"Top 5 Countries with the Highest CO2 Emissions:\")\n",
    "print(max_co2_emissions)\n",
    "\n",
    "print(\"\\nTop 5 Countries with the Lowest CO2 Emissions:\")\n",
    "print(min_co2_emissions)"
   ]
  },
  {
   "cell_type": "markdown",
   "id": "9d07f964-f4bf-4d44-a0ae-3bdb5e603e28",
   "metadata": {},
   "source": [
    "## Health Expenditure:\n",
    "\n",
    "### What is the range of out-of-pocket health expenditures across countries?"
   ]
  },
  {
   "cell_type": "code",
   "execution_count": 109,
   "id": "19d76fb4-a080-4a60-a3b9-9ba8ef29d288",
   "metadata": {},
   "outputs": [
    {
     "data": {
      "image/png": "[encoded data removed]",
      "text/plain": [
       "<Figure size 1000x600 with 1 Axes>"
      ]
     },
     "metadata": {},
     "output_type": "display_data"
    }
   ],
   "source": [
    "plt.figure(figsize=(10, 6))\n",
    "sb.kdeplot(df.Out_of_pocket_health_expenditure)\n",
    "plt.title(\"Out_of_pocket_health_expenditure\")\n",
    "plt.xlabel(\"Out_of_pocket_health_expenditure %\")\n",
    "plt.show()"
   ]
  },
  {
   "cell_type": "markdown",
   "id": "b594569a-1993-45ed-a5c9-4b0ec7dedece",
   "metadata": {},
   "source": [
    "### Is there a correlation between health expenditure and GDP or healthcare infrastructure?"
   ]
  },
  {
   "cell_type": "code",
   "execution_count": 90,
   "id": "945f6b63-55ea-4410-ac4b-81b524e9f26a",
   "metadata": {},
   "outputs": [
    {
     "data": {
      "text/html": [
       "<div>\n",
       "<style scoped>\n",
       "    .dataframe tbody tr th:only-of-type {\n",
       "        vertical-align: middle;\n",
       "    }\n",
       "\n",
       "    .dataframe tbody tr th {\n",
       "        vertical-align: top;\n",
       "    }\n",
       "\n",
       "    .dataframe thead th {\n",
       "        text-align: right;\n",
       "    }\n",
       "</style>\n",
       "<table border=\"1\" class=\"dataframe\">\n",
       "  <thead>\n",
       "    <tr style=\"text-align: right;\">\n",
       "      <th></th>\n",
       "      <th>Out_of_pocket_health_expenditure</th>\n",
       "      <th>GDP</th>\n",
       "    </tr>\n",
       "  </thead>\n",
       "  <tbody>\n",
       "    <tr>\n",
       "      <th>Out_of_pocket_health_expenditure</th>\n",
       "      <td>1.00000</td>\n",
       "      <td>-0.08227</td>\n",
       "    </tr>\n",
       "    <tr>\n",
       "      <th>GDP</th>\n",
       "      <td>-0.08227</td>\n",
       "      <td>1.00000</td>\n",
       "    </tr>\n",
       "  </tbody>\n",
       "</table>\n",
       "</div>"
      ],
      "text/plain": [
       "                                  Out_of_pocket_health_expenditure      GDP\n",
       "Out_of_pocket_health_expenditure                           1.00000 -0.08227\n",
       "GDP                                                       -0.08227  1.00000"
      ]
     },
     "execution_count": 90,
     "metadata": {},
     "output_type": "execute_result"
    }
   ],
   "source": [
    "Corr_Health_Expenditure=df[['Out_of_pocket_health_expenditure','GDP']].corr()\n",
    "Corr_Health_Expenditure"
   ]
  },
  {
   "cell_type": "code",
   "execution_count": 93,
   "id": "d3eb7c64-1b1a-4a35-9849-bb93d8055aee",
   "metadata": {},
   "outputs": [
    {
     "data": {
      "image/png": "[encoded data removed]",
      "text/plain": [
       "<Figure size 640x480 with 1 Axes>"
      ]
     },
     "metadata": {},
     "output_type": "display_data"
    }
   ],
   "source": [
    "plt.scatter(df.Out_of_pocket_health_expenditure,df.GDP)\n",
    "plt.show()"
   ]
  },
  {
   "cell_type": "code",
   "execution_count": 87,
   "id": "35a278d4-0e5a-458f-bf40-10f49aef11d3",
   "metadata": {},
   "outputs": [
    {
     "name": "stdout",
     "output_type": "stream",
     "text": [
      "Top 5 Countries with the Highest Out-of-Pocket Health Expenditure:\n",
      "Country\n",
      "Armenia        81.6\n",
      "Yemen          81.0\n",
      "Azerbaijan     78.6\n",
      "Afghanistan    78.4\n",
      "Iraq           76.5\n",
      "Name: Out_of_pocket_health_expenditure, dtype: float64\n",
      "\n",
      "Top 5 Countries with the Lowest Out-of-Pocket Health Expenditure:\n",
      "Country\n",
      "Kiribati                          0.2\n",
      "Tuvalu                            0.7\n",
      "Federated States of Micronesia    2.5\n",
      "Seychelles                        2.5\n",
      "Solomon Islands                   3.3\n",
      "Name: Out_of_pocket_health_expenditure, dtype: float64\n"
     ]
    }
   ],
   "source": [
    "max_health_expenditure = df.groupby('Country')['Out_of_pocket_health_expenditure'].max().nlargest(5)\n",
    "min_health_expenditure = df[df['Out_of_pocket_health_expenditure'] != 0].groupby('Country')['Out_of_pocket_health_expenditure'].min().nsmallest(5)\n",
    "\n",
    "print(\"Top 5 Countries with the Highest Out-of-Pocket Health Expenditure:\")\n",
    "print(max_health_expenditure)\n",
    "\n",
    "print(\"\\nTop 5 Countries with the Lowest Out-of-Pocket Health Expenditure:\")\n",
    "print(min_health_expenditure)"
   ]
  },
  {
   "cell_type": "markdown",
   "id": "e47fb842-8afe-45ed-bd30-d838af940b3b",
   "metadata": {},
   "source": [
    "## Physicians per thousand:\n",
    "\n",
    "### What is the distribution of physicians per thousand people across countries?"
   ]
  },
  {
   "cell_type": "code",
   "execution_count": 95,
   "id": "4c2aec66-4b61-480c-82cf-6acb81d0d853",
   "metadata": {},
   "outputs": [
    {
     "data": {
      "image/png": "[encoded data removed]",
      "text/plain": [
       "<Figure size 640x480 with 1 Axes>"
      ]
     },
     "metadata": {},
     "output_type": "display_data"
    }
   ],
   "source": [
    "sb.boxplot(df.Physicians_per_thousand)\n",
    "plt.show()"
   ]
  },
  {
   "cell_type": "markdown",
   "id": "554e8faf-41f5-4ea6-ab94-c54081d78f74",
   "metadata": {},
   "source": [
    "### Are there correlations between physician density and health outcomes or healthcare spending?"
   ]
  },
  {
   "cell_type": "code",
   "execution_count": 96,
   "id": "85fc1d67-3af6-47ee-ae17-aff3eb346522",
   "metadata": {},
   "outputs": [
    {
     "data": {
      "text/html": [
       "<div>\n",
       "<style scoped>\n",
       "    .dataframe tbody tr th:only-of-type {\n",
       "        vertical-align: middle;\n",
       "    }\n",
       "\n",
       "    .dataframe tbody tr th {\n",
       "        vertical-align: top;\n",
       "    }\n",
       "\n",
       "    .dataframe thead th {\n",
       "        text-align: right;\n",
       "    }\n",
       "</style>\n",
       "<table border=\"1\" class=\"dataframe\">\n",
       "  <thead>\n",
       "    <tr style=\"text-align: right;\">\n",
       "      <th></th>\n",
       "      <th>Physicians_per_thousand</th>\n",
       "      <th>Life_expectancy</th>\n",
       "      <th>Infant_mortality</th>\n",
       "      <th>Out_of_pocket_health_expenditure</th>\n",
       "    </tr>\n",
       "  </thead>\n",
       "  <tbody>\n",
       "    <tr>\n",
       "      <th>Physicians_per_thousand</th>\n",
       "      <td>1.000000</td>\n",
       "      <td>0.348046</td>\n",
       "      <td>-0.633198</td>\n",
       "      <td>-0.165278</td>\n",
       "    </tr>\n",
       "    <tr>\n",
       "      <th>Life_expectancy</th>\n",
       "      <td>0.348046</td>\n",
       "      <td>1.000000</td>\n",
       "      <td>-0.247479</td>\n",
       "      <td>0.051666</td>\n",
       "    </tr>\n",
       "    <tr>\n",
       "      <th>Infant_mortality</th>\n",
       "      <td>-0.633198</td>\n",
       "      <td>-0.247479</td>\n",
       "      <td>1.000000</td>\n",
       "      <td>0.346629</td>\n",
       "    </tr>\n",
       "    <tr>\n",
       "      <th>Out_of_pocket_health_expenditure</th>\n",
       "      <td>-0.165278</td>\n",
       "      <td>0.051666</td>\n",
       "      <td>0.346629</td>\n",
       "      <td>1.000000</td>\n",
       "    </tr>\n",
       "  </tbody>\n",
       "</table>\n",
       "</div>"
      ],
      "text/plain": [
       "                                  Physicians_per_thousand  Life_expectancy  \\\n",
       "Physicians_per_thousand                          1.000000         0.348046   \n",
       "Life_expectancy                                  0.348046         1.000000   \n",
       "Infant_mortality                                -0.633198        -0.247479   \n",
       "Out_of_pocket_health_expenditure                -0.165278         0.051666   \n",
       "\n",
       "                                  Infant_mortality  \\\n",
       "Physicians_per_thousand                  -0.633198   \n",
       "Life_expectancy                          -0.247479   \n",
       "Infant_mortality                          1.000000   \n",
       "Out_of_pocket_health_expenditure          0.346629   \n",
       "\n",
       "                                  Out_of_pocket_health_expenditure  \n",
       "Physicians_per_thousand                                  -0.165278  \n",
       "Life_expectancy                                           0.051666  \n",
       "Infant_mortality                                          0.346629  \n",
       "Out_of_pocket_health_expenditure                          1.000000  "
      ]
     },
     "execution_count": 96,
     "metadata": {},
     "output_type": "execute_result"
    }
   ],
   "source": [
    "Corr_Physicians_perthousand=df[['Physicians_per_thousand','Life_expectancy','Infant_mortality','Out_of_pocket_health_expenditure']].corr()\n",
    "Corr_Physicians_perthousand"
   ]
  },
  {
   "cell_type": "code",
   "execution_count": 97,
   "id": "c24361b7-cc03-47d0-b5e7-4460a9801d60",
   "metadata": {},
   "outputs": [
    {
     "data": {
      "image/png": "[encoded data removed]",
      "text/plain": [
       "<Figure size 2000x800 with 2 Axes>"
      ]
     },
     "metadata": {},
     "output_type": "display_data"
    }
   ],
   "source": [
    "plt.figure(figsize=(20,8))\n",
    "sb.heatmap(Corr_Physicians_perthousand,annot=True)\n",
    "plt.show()"
   ]
  },
  {
   "cell_type": "code",
   "execution_count": 104,
   "id": "b47e1cea-3e92-4dba-a338-9e8cdb62c334",
   "metadata": {},
   "outputs": [
    {
     "name": "stdout",
     "output_type": "stream",
     "text": [
      "Top 5 Countries with the Highest Number of Physicians per Thousand People:\n",
      "Country\n",
      "Cuba          8.42\n",
      "Georgia       7.12\n",
      "Monaco        6.56\n",
      "Lithuania     6.35\n",
      "San Marino    6.11\n",
      "Name: Physicians_per_thousand, dtype: float64\n",
      "\n",
      "Top 5 Countries with the Lowest Number of Physicians per Thousand People:\n",
      "Country\n",
      "Tanzania        0.01\n",
      "Somalia         0.02\n",
      "Sierra Leone    0.03\n",
      "Chad            0.04\n",
      "Liberia         0.04\n",
      "Name: Physicians_per_thousand, dtype: float64\n"
     ]
    }
   ],
   "source": [
    "max_physicians = df.groupby('Country')['Physicians_per_thousand'].max().nlargest(5)\n",
    "min_physicians =  df[df['Physicians_per_thousand'] != 0].groupby('Country')['Physicians_per_thousand'].min().nsmallest(5)\n",
    "\n",
    "print(\"Top 5 Countries with the Highest Number of Physicians per Thousand People:\")\n",
    "print(max_physicians)\n",
    "\n",
    "print(\"\\nTop 5 Countries with the Lowest Number of Physicians per Thousand People:\")\n",
    "print(min_physicians)"
   ]
  },
  {
   "cell_type": "markdown",
   "id": "89a370c5-e05f-4771-93d5-b32f4a26eef4",
   "metadata": {},
   "source": [
    "## Population:\n",
    "\n",
    "### What is the population distribution across countries?"
   ]
  },
  {
   "cell_type": "code",
   "execution_count": 110,
   "id": "73150715-4241-47b1-a50a-30a5876492dd",
   "metadata": {},
   "outputs": [
    {
     "data": {
      "image/png": "[encoded data removed]",
      "text/plain": [
       "<Figure size 1000x600 with 1 Axes>"
      ]
     },
     "metadata": {},
     "output_type": "display_data"
    }
   ],
   "source": [
    "plt.figure(figsize=(10, 6))\n",
    "sb.histplot(df['Population'],bins=20,kde=True)\n",
    "plt.title(\"Distribution of Population Across Countries\")\n",
    "plt.show()"
   ]
  },
  {
   "cell_type": "markdown",
   "id": "085201aa-b682-486a-9c0f-9074affae575",
   "metadata": {},
   "source": [
    "### Are there correlations between population size and variables like land area or GDP?"
   ]
  },
  {
   "cell_type": "code",
   "execution_count": 99,
   "id": "9bb6006e-525e-4c9f-ace5-1e702f2f6190",
   "metadata": {},
   "outputs": [
    {
     "data": {
      "text/html": [
       "<div>\n",
       "<style scoped>\n",
       "    .dataframe tbody tr th:only-of-type {\n",
       "        vertical-align: middle;\n",
       "    }\n",
       "\n",
       "    .dataframe tbody tr th {\n",
       "        vertical-align: top;\n",
       "    }\n",
       "\n",
       "    .dataframe thead th {\n",
       "        text-align: right;\n",
       "    }\n",
       "</style>\n",
       "<table border=\"1\" class=\"dataframe\">\n",
       "  <thead>\n",
       "    <tr style=\"text-align: right;\">\n",
       "      <th></th>\n",
       "      <th>Population</th>\n",
       "      <th>Life_expectancy</th>\n",
       "      <th>Land_Area_sqkm</th>\n",
       "      <th>GDP</th>\n",
       "    </tr>\n",
       "  </thead>\n",
       "  <tbody>\n",
       "    <tr>\n",
       "      <th>Population</th>\n",
       "      <td>1.000000</td>\n",
       "      <td>0.053514</td>\n",
       "      <td>0.446990</td>\n",
       "      <td>0.632544</td>\n",
       "    </tr>\n",
       "    <tr>\n",
       "      <th>Life_expectancy</th>\n",
       "      <td>0.053514</td>\n",
       "      <td>1.000000</td>\n",
       "      <td>0.090462</td>\n",
       "      <td>0.119860</td>\n",
       "    </tr>\n",
       "    <tr>\n",
       "      <th>Land_Area_sqkm</th>\n",
       "      <td>0.446990</td>\n",
       "      <td>0.090462</td>\n",
       "      <td>1.000000</td>\n",
       "      <td>0.550902</td>\n",
       "    </tr>\n",
       "    <tr>\n",
       "      <th>GDP</th>\n",
       "      <td>0.632544</td>\n",
       "      <td>0.119860</td>\n",
       "      <td>0.550902</td>\n",
       "      <td>1.000000</td>\n",
       "    </tr>\n",
       "  </tbody>\n",
       "</table>\n",
       "</div>"
      ],
      "text/plain": [
       "                 Population  Life_expectancy  Land_Area_sqkm       GDP\n",
       "Population         1.000000         0.053514        0.446990  0.632544\n",
       "Life_expectancy    0.053514         1.000000        0.090462  0.119860\n",
       "Land_Area_sqkm     0.446990         0.090462        1.000000  0.550902\n",
       "GDP                0.632544         0.119860        0.550902  1.000000"
      ]
     },
     "execution_count": 99,
     "metadata": {},
     "output_type": "execute_result"
    }
   ],
   "source": [
    "Corr_Population=df[['Population','Life_expectancy','Land_Area_sqkm','GDP']].corr()\n",
    "Corr_Population"
   ]
  },
  {
   "cell_type": "code",
   "execution_count": 89,
   "id": "766881ab-be9a-4d59-8d22-e72464f479ee",
   "metadata": {},
   "outputs": [
    {
     "name": "stdout",
     "output_type": "stream",
     "text": [
      "Top 5 Countries with the Highest Population:\n",
      "Country\n",
      "China            1.397715e+09\n",
      "India            1.366418e+09\n",
      "United States    3.282395e+08\n",
      "Indonesia        2.702039e+08\n",
      "Pakistan         2.165653e+08\n",
      "Name: Population, dtype: float64\n",
      "\n",
      "Top 5 Countries with the Lowest Population:\n",
      "Country\n",
      "Vatican City      836.0\n",
      "Nauru           10084.0\n",
      "Tuvalu          11646.0\n",
      "Palau           18233.0\n",
      "San Marino      33860.0\n",
      "Name: Population, dtype: float64\n"
     ]
    }
   ],
   "source": [
    "max_population = df.groupby('Country')['Population'].max().nlargest(5)\n",
    "min_population =  df[df['Population'] != 0].groupby('Country')['Population'].min().nsmallest(5)\n",
    "\n",
    "print(\"Top 5 Countries with the Highest Population:\")\n",
    "print(max_population)\n",
    "\n",
    "print(\"\\nTop 5 Countries with the Lowest Population:\")\n",
    "print(min_population)"
   ]
  },
  {
   "cell_type": "markdown",
   "id": "1c3946dd-295a-43f0-ac46-0daf5b0ad78b",
   "metadata": {},
   "source": [
    "## Labor Force Participation:\n",
    "\n",
    "### What is the distribution of labor force participation rates across countries?"
   ]
  },
  {
   "cell_type": "code",
   "execution_count": 111,
   "id": "b806d772-feee-4292-9df9-51b8e4c9d906",
   "metadata": {},
   "outputs": [
    {
     "data": {
      "image/png": "[encoded data removed]",
      "text/plain": [
       "<Figure size 1000x600 with 1 Axes>"
      ]
     },
     "metadata": {},
     "output_type": "display_data"
    }
   ],
   "source": [
    "plt.figure(figsize=(10,6))\n",
    "sb.kdeplot(df.Population_Labor_force_participation_pct)\n",
    "plt.show()"
   ]
  },
  {
   "cell_type": "markdown",
   "id": "027d5991-366e-47d1-847b-0bd5d204cc10",
   "metadata": {},
   "source": [
    "### Are there correlations between labor force participation rates and economic indicators like GDP or unemployment rate?"
   ]
  },
  {
   "cell_type": "code",
   "execution_count": 101,
   "id": "a9276877-afff-4939-b2b0-d33c853d2d8c",
   "metadata": {},
   "outputs": [
    {
     "data": {
      "text/html": [
       "<div>\n",
       "<style scoped>\n",
       "    .dataframe tbody tr th:only-of-type {\n",
       "        vertical-align: middle;\n",
       "    }\n",
       "\n",
       "    .dataframe tbody tr th {\n",
       "        vertical-align: top;\n",
       "    }\n",
       "\n",
       "    .dataframe thead th {\n",
       "        text-align: right;\n",
       "    }\n",
       "</style>\n",
       "<table border=\"1\" class=\"dataframe\">\n",
       "  <thead>\n",
       "    <tr style=\"text-align: right;\">\n",
       "      <th></th>\n",
       "      <th>Population_Labor_force_participation_pct</th>\n",
       "      <th>Unemployment_rate</th>\n",
       "      <th>GDP</th>\n",
       "    </tr>\n",
       "  </thead>\n",
       "  <tbody>\n",
       "    <tr>\n",
       "      <th>Population_Labor_force_participation_pct</th>\n",
       "      <td>1.000000</td>\n",
       "      <td>0.156049</td>\n",
       "      <td>0.059896</td>\n",
       "    </tr>\n",
       "    <tr>\n",
       "      <th>Unemployment_rate</th>\n",
       "      <td>0.156049</td>\n",
       "      <td>1.000000</td>\n",
       "      <td>0.056667</td>\n",
       "    </tr>\n",
       "    <tr>\n",
       "      <th>GDP</th>\n",
       "      <td>0.059896</td>\n",
       "      <td>0.056667</td>\n",
       "      <td>1.000000</td>\n",
       "    </tr>\n",
       "  </tbody>\n",
       "</table>\n",
       "</div>"
      ],
      "text/plain": [
       "                                          Population_Labor_force_participation_pct  \\\n",
       "Population_Labor_force_participation_pct                                  1.000000   \n",
       "Unemployment_rate                                                         0.156049   \n",
       "GDP                                                                       0.059896   \n",
       "\n",
       "                                          Unemployment_rate       GDP  \n",
       "Population_Labor_force_participation_pct           0.156049  0.059896  \n",
       "Unemployment_rate                                  1.000000  0.056667  \n",
       "GDP                                                0.056667  1.000000  "
      ]
     },
     "execution_count": 101,
     "metadata": {},
     "output_type": "execute_result"
    }
   ],
   "source": [
    "Corr_Labour_Force=df[['Population_Labor_force_participation_pct','Unemployment_rate','GDP']].corr()\n",
    "Corr_Labour_Force"
   ]
  },
  {
   "cell_type": "code",
   "execution_count": 90,
   "id": "556801a6-1b2c-4099-8836-5b69376d44bc",
   "metadata": {},
   "outputs": [
    {
     "name": "stdout",
     "output_type": "stream",
     "text": [
      "Top 5 Countries with the Highest Labor Force Participation Rate:\n",
      "Country\n",
      "Qatar              86.8\n",
      "Madagascar         86.1\n",
      "Nepal              83.8\n",
      "Solomon Islands    83.8\n",
      "Rwanda             83.7\n",
      "Name: Population_Labor_force_participation_pct, dtype: float64\n",
      "\n",
      "Top 5 Countries with the Lowest Labor Force Participation Rate:\n",
      "Country\n",
      "Yemen         38.0\n",
      "Jordan        39.3\n",
      "Algeria       41.2\n",
      "Tajikistan    42.0\n",
      "Iraq          43.0\n",
      "Name: Population_Labor_force_participation_pct, dtype: float64\n"
     ]
    }
   ],
   "source": [
    "max_labor_participation = df.groupby('Country')['Population_Labor_force_participation_pct'].max().nlargest(5)\n",
    "min_labor_participation =  df[df['Population_Labor_force_participation_pct'] != 0].groupby('Country')['Population_Labor_force_participation_pct'].min().nsmallest(5)\n",
    "\n",
    "print(\"Top 5 Countries with the Highest Labor Force Participation Rate:\")\n",
    "print(max_labor_participation)\n",
    "\n",
    "print(\"\\nTop 5 Countries with the Lowest Labor Force Participation Rate:\")\n",
    "print(min_labor_participation)"
   ]
  },
  {
   "cell_type": "markdown",
   "id": "91e1dad5-acdc-43b8-90ea-81a2e279b0b9",
   "metadata": {},
   "source": [
    "## Tax Revenue:\n",
    "\n",
    "### What is the distribution of tax revenue as a percentage of GDP across countries?"
   ]
  },
  {
   "cell_type": "code",
   "execution_count": 113,
   "id": "2a96b0a6-e517-4cda-86c6-f7afb1c7115f",
   "metadata": {},
   "outputs": [
    {
     "data": {
      "image/png": "[encoded data removed]",
      "text/plain": [
       "<Figure size 1000x600 with 1 Axes>"
      ]
     },
     "metadata": {},
     "output_type": "display_data"
    }
   ],
   "source": [
    "plt.figure(figsize=(10,6))\n",
    "sb.distplot(df.Tax_revenue_pct)\n",
    "plt.show()"
   ]
  },
  {
   "cell_type": "markdown",
   "id": "dd792794-5037-42e2-b399-01aa1e37f4d7",
   "metadata": {},
   "source": [
    "### Are there correlations between tax revenue and economic indicators like GDP or government expenditure?"
   ]
  },
  {
   "cell_type": "code",
   "execution_count": 104,
   "id": "7792c9d6-5751-4a6b-9be6-f11971fa3300",
   "metadata": {},
   "outputs": [
    {
     "data": {
      "text/html": [
       "<div>\n",
       "<style scoped>\n",
       "    .dataframe tbody tr th:only-of-type {\n",
       "        vertical-align: middle;\n",
       "    }\n",
       "\n",
       "    .dataframe tbody tr th {\n",
       "        vertical-align: top;\n",
       "    }\n",
       "\n",
       "    .dataframe thead th {\n",
       "        text-align: right;\n",
       "    }\n",
       "</style>\n",
       "<table border=\"1\" class=\"dataframe\">\n",
       "  <thead>\n",
       "    <tr style=\"text-align: right;\">\n",
       "      <th></th>\n",
       "      <th>Tax_revenue_pct</th>\n",
       "      <th>GDP</th>\n",
       "    </tr>\n",
       "  </thead>\n",
       "  <tbody>\n",
       "    <tr>\n",
       "      <th>Tax_revenue_pct</th>\n",
       "      <td>1.000000</td>\n",
       "      <td>-0.037143</td>\n",
       "    </tr>\n",
       "    <tr>\n",
       "      <th>GDP</th>\n",
       "      <td>-0.037143</td>\n",
       "      <td>1.000000</td>\n",
       "    </tr>\n",
       "  </tbody>\n",
       "</table>\n",
       "</div>"
      ],
      "text/plain": [
       "                 Tax_revenue_pct       GDP\n",
       "Tax_revenue_pct         1.000000 -0.037143\n",
       "GDP                    -0.037143  1.000000"
      ]
     },
     "execution_count": 104,
     "metadata": {},
     "output_type": "execute_result"
    }
   ],
   "source": [
    "Corr_Tax_Revenue=df[['Tax_revenue_pct','GDP']].corr()\n",
    "Corr_Tax_Revenue"
   ]
  },
  {
   "cell_type": "code",
   "execution_count": 91,
   "id": "ebc6ba87-ac1c-486a-86a1-438a117fff9e",
   "metadata": {},
   "outputs": [
    {
     "name": "stdout",
     "output_type": "stream",
     "text": [
      "Top 5 Countries with the Highest Tax Revenue:\n",
      "Country\n",
      "Algeria            37.2\n",
      "Seychelles         34.1\n",
      "Denmark            32.4\n",
      "Lesotho            31.6\n",
      "Solomon Islands    29.5\n",
      "Name: Tax_revenue_pct, dtype: float64\n",
      "\n",
      "Top 5 Countries with the Lowest Tax Revenue:\n",
      "Country\n",
      "United Arab Emirates    0.1\n",
      "Kuwait                  1.4\n",
      "Nigeria                 1.5\n",
      "Iraq                    2.0\n",
      "Oman                    2.5\n",
      "Name: Tax_revenue_pct, dtype: float64\n"
     ]
    }
   ],
   "source": [
    "max_tax_revenue = df.groupby('Country')['Tax_revenue_pct'].max().nlargest(5)\n",
    "min_tax_revenue =  df[df['Tax_revenue_pct'] != 0].groupby('Country')['Tax_revenue_pct'].min().nsmallest(5)\n",
    "\n",
    "print(\"Top 5 Countries with the Highest Tax Revenue:\")\n",
    "print(max_tax_revenue)\n",
    "\n",
    "print(\"\\nTop 5 Countries with the Lowest Tax Revenue:\")\n",
    "print(min_tax_revenue)"
   ]
  },
  {
   "cell_type": "markdown",
   "id": "b5b01eb6-163e-4e72-9846-dfb95282f4c0",
   "metadata": {},
   "source": [
    "## Total Tax Rate:\n",
    "\n",
    "### What is the distribution of total tax rates across countries?"
   ]
  },
  {
   "cell_type": "code",
   "execution_count": 114,
   "id": "4d66d286-1a78-4819-8a45-638eded78a80",
   "metadata": {},
   "outputs": [
    {
     "data": {
      "image/png": "[encoded data removed]",
      "text/plain": [
       "<Figure size 1000x600 with 1 Axes>"
      ]
     },
     "metadata": {},
     "output_type": "display_data"
    }
   ],
   "source": [
    "plt.figure(figsize=(10,6))\n",
    "sb.distplot(df.Total_tax_rate)\n",
    "plt.show()"
   ]
  },
  {
   "cell_type": "markdown",
   "id": "518996e1-e0b1-4aa2-aedb-705ba093f849",
   "metadata": {},
   "source": [
    "### Are there correlations between total tax rates and economic indicators like GDP?"
   ]
  },
  {
   "cell_type": "code",
   "execution_count": 107,
   "id": "21a25aa5-927c-4ab9-998d-278684f9938f",
   "metadata": {},
   "outputs": [
    {
     "data": {
      "text/html": [
       "<div>\n",
       "<style scoped>\n",
       "    .dataframe tbody tr th:only-of-type {\n",
       "        vertical-align: middle;\n",
       "    }\n",
       "\n",
       "    .dataframe tbody tr th {\n",
       "        vertical-align: top;\n",
       "    }\n",
       "\n",
       "    .dataframe thead th {\n",
       "        text-align: right;\n",
       "    }\n",
       "</style>\n",
       "<table border=\"1\" class=\"dataframe\">\n",
       "  <thead>\n",
       "    <tr style=\"text-align: right;\">\n",
       "      <th></th>\n",
       "      <th>Total_tax_rate</th>\n",
       "      <th>GDP</th>\n",
       "      <th>Minimum_wage</th>\n",
       "    </tr>\n",
       "  </thead>\n",
       "  <tbody>\n",
       "    <tr>\n",
       "      <th>Total_tax_rate</th>\n",
       "      <td>1.000000</td>\n",
       "      <td>0.069834</td>\n",
       "      <td>-0.006297</td>\n",
       "    </tr>\n",
       "    <tr>\n",
       "      <th>GDP</th>\n",
       "      <td>0.069834</td>\n",
       "      <td>1.000000</td>\n",
       "      <td>0.222436</td>\n",
       "    </tr>\n",
       "    <tr>\n",
       "      <th>Minimum_wage</th>\n",
       "      <td>-0.006297</td>\n",
       "      <td>0.222436</td>\n",
       "      <td>1.000000</td>\n",
       "    </tr>\n",
       "  </tbody>\n",
       "</table>\n",
       "</div>"
      ],
      "text/plain": [
       "                Total_tax_rate       GDP  Minimum_wage\n",
       "Total_tax_rate        1.000000  0.069834     -0.006297\n",
       "GDP                   0.069834  1.000000      0.222436\n",
       "Minimum_wage         -0.006297  0.222436      1.000000"
      ]
     },
     "execution_count": 107,
     "metadata": {},
     "output_type": "execute_result"
    }
   ],
   "source": [
    "Corr_Total_TaxRate=df[['Total_tax_rate','GDP','Minimum_wage']].corr()\n",
    "Corr_Total_TaxRate"
   ]
  },
  {
   "cell_type": "code",
   "execution_count": 92,
   "id": "704c644f-9579-499d-9dc8-dad5416b430e",
   "metadata": {},
   "outputs": [
    {
     "name": "stdout",
     "output_type": "stream",
     "text": [
      "Top 5 Countries with the Highest Total Tax Rate:\n",
      "Country\n",
      "Comoros              219.6\n",
      "Argentina            106.3\n",
      "Bolivia               83.7\n",
      "Eritrea               83.7\n",
      "Equatorial Guinea     79.4\n",
      "Name: Total_tax_rate, dtype: float64\n",
      "\n",
      "Top 5 Countries with the Lowest Total Tax Rate:\n",
      "Country\n",
      "Brunei      8.0\n",
      "Vanuatu     8.5\n",
      "Georgia     9.9\n",
      "Qatar      11.3\n",
      "Kuwait     13.0\n",
      "Name: Total_tax_rate, dtype: float64\n"
     ]
    }
   ],
   "source": [
    "max_total_tax_rate = df.groupby('Country')['Total_tax_rate'].max().nlargest(5)\n",
    "min_total_tax_rate =  df[df['Total_tax_rate'] != 0].groupby('Country')['Total_tax_rate'].min().nsmallest(5)\n",
    "\n",
    "print(\"Top 5 Countries with the Highest Total Tax Rate:\")\n",
    "print(max_total_tax_rate)\n",
    "\n",
    "print(\"\\nTop 5 Countries with the Lowest Total Tax Rate:\")\n",
    "print(min_total_tax_rate)"
   ]
  },
  {
   "cell_type": "markdown",
   "id": "46df7f86-10f2-4f4c-91d2-b060045b0aa0",
   "metadata": {},
   "source": [
    "## Unemployment Rate:\n",
    "\n",
    "### What is the distribution of unemployment rates across countries?"
   ]
  },
  {
   "cell_type": "code",
   "execution_count": 115,
   "id": "0e6e428b-c5c0-4a59-b939-77bb70cb5fdd",
   "metadata": {},
   "outputs": [
    {
     "data": {
      "image/png": "[encoded data removed]",
      "text/plain": [
       "<Figure size 1000x600 with 1 Axes>"
      ]
     },
     "metadata": {},
     "output_type": "display_data"
    }
   ],
   "source": [
    "plt.figure(figsize=(10,6))\n",
    "sb.kdeplot(df.Unemployment_rate)\n",
    "plt.show()"
   ]
  },
  {
   "cell_type": "markdown",
   "id": "95dc3872-c87e-4333-a6b7-589bca55eb5a",
   "metadata": {},
   "source": [
    "### Are there correlations between unemployment rates and economic indicators like GDP or labor force participation rates?"
   ]
  },
  {
   "cell_type": "code",
   "execution_count": 110,
   "id": "5dcc07fe-3642-439f-a497-484062a98744",
   "metadata": {},
   "outputs": [
    {
     "data": {
      "text/html": [
       "<div>\n",
       "<style scoped>\n",
       "    .dataframe tbody tr th:only-of-type {\n",
       "        vertical-align: middle;\n",
       "    }\n",
       "\n",
       "    .dataframe tbody tr th {\n",
       "        vertical-align: top;\n",
       "    }\n",
       "\n",
       "    .dataframe thead th {\n",
       "        text-align: right;\n",
       "    }\n",
       "</style>\n",
       "<table border=\"1\" class=\"dataframe\">\n",
       "  <thead>\n",
       "    <tr style=\"text-align: right;\">\n",
       "      <th></th>\n",
       "      <th>Unemployment_rate</th>\n",
       "      <th>GDP</th>\n",
       "      <th>Minimum_wage</th>\n",
       "    </tr>\n",
       "  </thead>\n",
       "  <tbody>\n",
       "    <tr>\n",
       "      <th>Unemployment_rate</th>\n",
       "      <td>1.000000</td>\n",
       "      <td>0.056667</td>\n",
       "      <td>-0.048923</td>\n",
       "    </tr>\n",
       "    <tr>\n",
       "      <th>GDP</th>\n",
       "      <td>0.056667</td>\n",
       "      <td>1.000000</td>\n",
       "      <td>0.222436</td>\n",
       "    </tr>\n",
       "    <tr>\n",
       "      <th>Minimum_wage</th>\n",
       "      <td>-0.048923</td>\n",
       "      <td>0.222436</td>\n",
       "      <td>1.000000</td>\n",
       "    </tr>\n",
       "  </tbody>\n",
       "</table>\n",
       "</div>"
      ],
      "text/plain": [
       "                   Unemployment_rate       GDP  Minimum_wage\n",
       "Unemployment_rate           1.000000  0.056667     -0.048923\n",
       "GDP                         0.056667  1.000000      0.222436\n",
       "Minimum_wage               -0.048923  0.222436      1.000000"
      ]
     },
     "execution_count": 110,
     "metadata": {},
     "output_type": "execute_result"
    }
   ],
   "source": [
    "Corr_UnemploymentRate=df[['Unemployment_rate','GDP','Minimum_wage']].corr()\n",
    "Corr_UnemploymentRate"
   ]
  },
  {
   "cell_type": "code",
   "execution_count": 93,
   "id": "97180106-547f-4c25-b44c-a819df488df5",
   "metadata": {},
   "outputs": [
    {
     "name": "stdout",
     "output_type": "stream",
     "text": [
      "Top 5 Countries with the Highest Unemployment Rate:\n",
      "Country\n",
      "South Africa    28.18\n",
      "Lesotho         23.41\n",
      "Saint Lucia     20.71\n",
      "Namibia         20.27\n",
      "Gabon           20.00\n",
      "Name: Unemployment_rate, dtype: float64\n",
      "\n",
      "Top 5 Countries with the Lowest Unemployment Rate:\n",
      "Country\n",
      "Qatar              0.09\n",
      "Niger              0.47\n",
      "Solomon Islands    0.58\n",
      "Laos               0.63\n",
      "Cambodia           0.68\n",
      "Name: Unemployment_rate, dtype: float64\n"
     ]
    }
   ],
   "source": [
    "max_unemployment_rate = df.groupby('Country')['Unemployment_rate'].max().nlargest(5)\n",
    "min_unemployment_rate =  df[df['Unemployment_rate'] != 0].groupby('Country')['Unemployment_rate'].min().nsmallest(5)\n",
    "\n",
    "print(\"Top 5 Countries with the Highest Unemployment Rate:\")\n",
    "print(max_unemployment_rate)\n",
    "\n",
    "print(\"\\nTop 5 Countries with the Lowest Unemployment Rate:\")\n",
    "print(min_unemployment_rate)"
   ]
  },
  {
   "cell_type": "markdown",
   "id": "78e4b3a9-5f44-4428-b781-c9a8ecc6e91b",
   "metadata": {},
   "source": [
    "## Urban Population:\n",
    "\n",
    "### What is the distribution of urban population percentages across countries?"
   ]
  },
  {
   "cell_type": "code",
   "execution_count": 94,
   "id": "94fbdba3-d61b-4d34-81f4-40646b94639b",
   "metadata": {},
   "outputs": [
    {
     "data": {
      "image/png": "[encoded data removed]",
      "text/plain": [
       "<Figure size 1000x600 with 1 Axes>"
      ]
     },
     "metadata": {},
     "output_type": "display_data"
    }
   ],
   "source": [
    "plt.figure(figsize=(10, 6))\n",
    "sb.histplot(df['Urban_population'],bins=20, kde=True)\n",
    "plt.title('Distribution of Urban Population Percentages Across Countries')\n",
    "plt.xlabel('Urban Population Percentage')\n",
    "plt.show()"
   ]
  },
  {
   "cell_type": "markdown",
   "id": "3a06e7de-327f-44e2-9f81-4296c83561d5",
   "metadata": {},
   "source": [
    "### Are there correlations between urban population percentages and GDP or population density?"
   ]
  },
  {
   "cell_type": "code",
   "execution_count": 112,
   "id": "fb7f4585-92a8-48b6-9973-b5b6bce3943c",
   "metadata": {},
   "outputs": [
    {
     "data": {
      "text/html": [
       "<div>\n",
       "<style scoped>\n",
       "    .dataframe tbody tr th:only-of-type {\n",
       "        vertical-align: middle;\n",
       "    }\n",
       "\n",
       "    .dataframe tbody tr th {\n",
       "        vertical-align: top;\n",
       "    }\n",
       "\n",
       "    .dataframe thead th {\n",
       "        text-align: right;\n",
       "    }\n",
       "</style>\n",
       "<table border=\"1\" class=\"dataframe\">\n",
       "  <thead>\n",
       "    <tr style=\"text-align: right;\">\n",
       "      <th></th>\n",
       "      <th>Urban_population</th>\n",
       "      <th>GDP</th>\n",
       "      <th>Density_people_persqkm</th>\n",
       "    </tr>\n",
       "  </thead>\n",
       "  <tbody>\n",
       "    <tr>\n",
       "      <th>Urban_population</th>\n",
       "      <td>1.000000</td>\n",
       "      <td>0.784580</td>\n",
       "      <td>-0.023715</td>\n",
       "    </tr>\n",
       "    <tr>\n",
       "      <th>GDP</th>\n",
       "      <td>0.784580</td>\n",
       "      <td>1.000000</td>\n",
       "      <td>-0.018878</td>\n",
       "    </tr>\n",
       "    <tr>\n",
       "      <th>Density_people_persqkm</th>\n",
       "      <td>-0.023715</td>\n",
       "      <td>-0.018878</td>\n",
       "      <td>1.000000</td>\n",
       "    </tr>\n",
       "  </tbody>\n",
       "</table>\n",
       "</div>"
      ],
      "text/plain": [
       "                        Urban_population       GDP  Density_people_persqkm\n",
       "Urban_population                1.000000  0.784580               -0.023715\n",
       "GDP                             0.784580  1.000000               -0.018878\n",
       "Density_people_persqkm         -0.023715 -0.018878                1.000000"
      ]
     },
     "execution_count": 112,
     "metadata": {},
     "output_type": "execute_result"
    }
   ],
   "source": [
    "Corr_Urban_Population=df[['Urban_population','GDP','Density_people_persqkm']].corr()\n",
    "Corr_Urban_Population"
   ]
  },
  {
   "cell_type": "code",
   "execution_count": 95,
   "id": "dec6594f-67ce-42b8-8fe8-353cc4570a4d",
   "metadata": {},
   "outputs": [
    {
     "name": "stdout",
     "output_type": "stream",
     "text": [
      "Top 5 Countries with the Highest Urban Population Percentage:\n",
      "Country\n",
      "China            842933962.0\n",
      "India            471031528.0\n",
      "United States    270663028.0\n",
      "Brazil           183241641.0\n",
      "Indonesia        151509724.0\n",
      "Name: Urban_population, dtype: float64\n",
      "\n",
      "Top 5 Countries with the Lowest Urban Population Percentage:\n",
      "Country\n",
      "Liechtenstein             5464.0\n",
      "Tuvalu                    7362.0\n",
      "Palau                    14491.0\n",
      "Saint Kitts and Nevis    16269.0\n",
      "Antigua and Barbuda      23800.0\n",
      "Name: Urban_population, dtype: float64\n"
     ]
    }
   ],
   "source": [
    "max_urban_population = df.groupby('Country')['Urban_population'].max().nlargest(5)\n",
    "min_urban_population =  df[df['Urban_population'] != 0].groupby('Country')['Urban_population'].min().nsmallest(5)\n",
    "\n",
    "print(\"Top 5 Countries with the Highest Urban Population Percentage:\")\n",
    "print(max_urban_population)\n",
    "\n",
    "print(\"\\nTop 5 Countries with the Lowest Urban Population Percentage:\")\n",
    "print(min_urban_population)"
   ]
  },
  {
   "cell_type": "markdown",
   "id": "c7a20df5-a70c-47f9-a554-1c76974b4165",
   "metadata": {},
   "source": [
    "### Official Language:"
   ]
  },
  {
   "cell_type": "code",
   "execution_count": 96,
   "id": "57b3ee42-4ecf-4a5c-ab3f-1e6aeeb81849",
   "metadata": {},
   "outputs": [
    {
     "data": {
      "text/plain": [
       "Official_language\n",
       "English             31\n",
       "French              25\n",
       "Spanish             19\n",
       "Arabic              18\n",
       "Portuguese           7\n",
       "                    ..\n",
       "Hebrew               1\n",
       "Jamaican English     1\n",
       "Lao                  1\n",
       "Latvian              1\n",
       "Shona                1\n",
       "Name: count, Length: 77, dtype: int64"
      ]
     },
     "execution_count": 96,
     "metadata": {},
     "output_type": "execute_result"
    }
   ],
   "source": [
    "df.Official_language.value_counts()"
   ]
  },
  {
   "cell_type": "code",
   "execution_count": 98,
   "id": "e734e538-b608-452d-aac9-b4462c0321dd",
   "metadata": {},
   "outputs": [
    {
     "name": "stdout",
     "output_type": "stream",
     "text": [
      "['Pashto' 'Albanian' 'Arabic' 'Catalan' 'Portuguese' 'English' 'Spanish'\n",
      " 'Armenian' 'unknown' 'German' 'Azerbaijani language' 'Bengali' 'Russian'\n",
      " 'French' 'Dzongkha' 'Bosnian' 'Malay' 'Bulgarian' 'Kirundi'\n",
      " 'Khmer language' 'Standard Chinese' 'Croatian' 'Greek' 'Czech' 'Danish'\n",
      " 'Modern Standard Arabic' 'Tigrinya' 'Estonian' 'Amharic' 'Fiji Hindi'\n",
      " 'Swedish' 'Georgian' 'Italian' 'Hungarian' 'Icelandic' 'Hindi'\n",
      " 'Indonesian' 'Persian' 'Irish' 'Hebrew' 'Jamaican English' 'Swahili'\n",
      " 'Lao' 'Latvian' 'Lithuanian' 'Luxembourgish' 'Malaysian language'\n",
      " 'Divehi' 'Maltese' 'Marshallese' 'Romanian' 'Mongolian'\n",
      " 'Montenegrin language' 'Burmese' 'Nepali' 'Dutch' 'Korean' 'Macedonian'\n",
      " 'Norwegian' 'Urdu' 'Tok Pisin' 'Polish' 'Samoan' 'Serbian' 'Slovak'\n",
      " 'Slovene language' 'Afrikaans' 'Tamil' 'Thai' 'Tongan Language' 'Turkish'\n",
      " 'Turkmen' 'Tuvaluan Language' 'Ukrainian' 'Uzbek' 'Vietnamese' 'Shona']\n"
     ]
    },
    {
     "name": "stdin",
     "output_type": "stream",
     "text": [
      "Enter Language: Hindi\n"
     ]
    },
    {
     "data": {
      "text/html": [
       "<div>\n",
       "<style scoped>\n",
       "    .dataframe tbody tr th:only-of-type {\n",
       "        vertical-align: middle;\n",
       "    }\n",
       "\n",
       "    .dataframe tbody tr th {\n",
       "        vertical-align: top;\n",
       "    }\n",
       "\n",
       "    .dataframe thead th {\n",
       "        text-align: right;\n",
       "    }\n",
       "</style>\n",
       "<table border=\"1\" class=\"dataframe\">\n",
       "  <thead>\n",
       "    <tr style=\"text-align: right;\">\n",
       "      <th></th>\n",
       "      <th>Country</th>\n",
       "      <th>Density_people_persqkm</th>\n",
       "      <th>Abbreviation</th>\n",
       "      <th>Agricultural_Land_pct</th>\n",
       "      <th>Land_Area_sqkm</th>\n",
       "      <th>Armed_Forces_size</th>\n",
       "      <th>Birth_Rate</th>\n",
       "      <th>Calling_Code</th>\n",
       "      <th>Capital_Major_City</th>\n",
       "      <th>Co2_Emissions</th>\n",
       "      <th>...</th>\n",
       "      <th>Out_of_pocket_health_expenditure</th>\n",
       "      <th>Physicians_per_thousand</th>\n",
       "      <th>Population</th>\n",
       "      <th>Population_Labor_force_participation_pct</th>\n",
       "      <th>Tax_revenue_pct</th>\n",
       "      <th>Total_tax_rate</th>\n",
       "      <th>Unemployment_rate</th>\n",
       "      <th>Urban_population</th>\n",
       "      <th>Latitude</th>\n",
       "      <th>Longitude</th>\n",
       "    </tr>\n",
       "  </thead>\n",
       "  <tbody>\n",
       "    <tr>\n",
       "      <th>77</th>\n",
       "      <td>India</td>\n",
       "      <td>464.0</td>\n",
       "      <td>IN</td>\n",
       "      <td>60.4</td>\n",
       "      <td>3287263.0</td>\n",
       "      <td>3031000.0</td>\n",
       "      <td>17.86</td>\n",
       "      <td>91.0</td>\n",
       "      <td>New Delhi</td>\n",
       "      <td>2407672.0</td>\n",
       "      <td>...</td>\n",
       "      <td>65.1</td>\n",
       "      <td>0.86</td>\n",
       "      <td>1.366418e+09</td>\n",
       "      <td>49.3</td>\n",
       "      <td>11.2</td>\n",
       "      <td>49.7</td>\n",
       "      <td>5.36</td>\n",
       "      <td>471031528.0</td>\n",
       "      <td>20.593684</td>\n",
       "      <td>78.96288</td>\n",
       "    </tr>\n",
       "  </tbody>\n",
       "</table>\n",
       "<p>1 rows × 35 columns</p>\n",
       "</div>"
      ],
      "text/plain": [
       "   Country  Density_people_persqkm Abbreviation  Agricultural_Land_pct  \\\n",
       "77   India                   464.0           IN                   60.4   \n",
       "\n",
       "    Land_Area_sqkm  Armed_Forces_size  Birth_Rate  Calling_Code  \\\n",
       "77       3287263.0          3031000.0       17.86          91.0   \n",
       "\n",
       "   Capital_Major_City  Co2_Emissions  ...  Out_of_pocket_health_expenditure  \\\n",
       "77          New Delhi      2407672.0  ...                              65.1   \n",
       "\n",
       "    Physicians_per_thousand    Population  \\\n",
       "77                     0.86  1.366418e+09   \n",
       "\n",
       "    Population_Labor_force_participation_pct  Tax_revenue_pct  Total_tax_rate  \\\n",
       "77                                      49.3             11.2            49.7   \n",
       "\n",
       "    Unemployment_rate  Urban_population   Latitude  Longitude  \n",
       "77               5.36       471031528.0  20.593684   78.96288  \n",
       "\n",
       "[1 rows x 35 columns]"
      ]
     },
     "execution_count": 98,
     "metadata": {},
     "output_type": "execute_result"
    }
   ],
   "source": [
    "print(df.Official_language.unique())\n",
    "of = input('Enter Language:')\n",
    "language = df[df.Official_language == of]\n",
    "language"
   ]
  },
  {
   "cell_type": "code",
   "execution_count": null,
   "id": "8575008b-f7f3-4089-9a29-cf081e946644",
   "metadata": {},
   "outputs": [],
   "source": []
  }
 ],
 "metadata": {
  "kernelspec": {
   "display_name": "Python 3 (ipykernel)",
   "language": "python",
   "name": "python3"
  },
  "language_info": {
   "codemirror_mode": {
    "name": "ipython",
    "version": 3
   },
   "file_extension": ".py",
   "mimetype": "text/x-python",
   "name": "python",
   "nbconvert_exporter": "python",
   "pygments_lexer": "ipython3",
   "version": "3.12.7"
  }
 },
 "nbformat": 4,
 "nbformat_minor": 5
}
